{
 "cells": [
  {
   "cell_type": "markdown",
   "metadata": {},
   "source": [
    "# Description\n",
    "\n",
    "## Context\n",
    "\n",
    "This is a Women’s Clothing E-Commerce dataset revolving around the reviews written by customers. Its nine supportive features offer a great environment to parse out the text through its multiple dimensions. Because this is real commercial data, it has been anonymized, and references to the company in the review text and body have been replaced with “retailer”.\n",
    "\n",
    "## Content\n",
    "\n",
    "This dataset includes 23486 rows and 10 feature variables. Each row corresponds to a customer review, and includes the variables:\n",
    "\n",
    "Clothing ID: Integer Categorical variable that refers to the specific piece being reviewed.\n",
    "\n",
    "Age: Positive Integer variable of the reviewers age.\n",
    "\n",
    "Title: String variable for the title of the review.\n",
    "\n",
    "Review Text: String variable for the review body.\n",
    "\n",
    "Rating: Positive Ordinal Integer variable for the product score granted by the customer from 1 Worst, to 5 Best.\n",
    "\n",
    "Recommended IND: Binary variable stating where the customer recommends the product where 1 is recommended, 0 is not recommended.\n",
    "\n",
    "Positive Feedback Count: Positive Integer documenting the number of other customers who found this review positive.\n",
    "\n",
    "Division Name: Categorical name of the product high level division.\n",
    "\n",
    "Department Name: Categorical name of the product department name.\n",
    "\n",
    "Class Name: Categorical name of the product class name.\n",
    "\n",
    "## Problem approach\n",
    "\n",
    "This problem can be considered as a Classification or Regression problem.Our approach is to solve it as an Multiple Classification problem.\n",
    "\n",
    "We have considered 'Rating' as the Target variable. The main objective is to predict the Women's clothing rating based on the customer reviews."
   ]
  },
  {
   "cell_type": "markdown",
   "metadata": {},
   "source": [
    "#### Load the required libraries"
   ]
  },
  {
   "cell_type": "code",
   "execution_count": 58,
   "metadata": {},
   "outputs": [],
   "source": [
    "import os\n",
    "import pandas as pd\n",
    "import numpy as np\n",
    "\n",
    "from sklearn.preprocessing import MinMaxScaler\n",
    "from sklearn.model_selection import train_test_split\n",
    "from sklearn.metrics import confusion_matrix\n",
    "\n",
    "from keras.preprocessing.text import Tokenizer\n",
    "from keras.preprocessing.sequence import pad_sequences\n",
    "from keras.utils import to_categorical\n",
    "\n",
    "from keras.layers import Input,Embedding,Dense,Flatten,concatenate\n",
    "from keras.models import Model\n",
    "\n",
    "from IPython.display import Image"
   ]
  },
  {
   "cell_type": "markdown",
   "metadata": {},
   "source": [
    "#### Constants declaration"
   ]
  },
  {
   "cell_type": "code",
   "execution_count": 59,
   "metadata": {},
   "outputs": [],
   "source": [
    "EMBEDDING_DIM = 50\n",
    "EPOCHS =10\n",
    "VALIDATION_SPLIT = 0.2"
   ]
  },
  {
   "cell_type": "markdown",
   "metadata": {},
   "source": [
    "#### Set the working directory"
   ]
  },
  {
   "cell_type": "code",
   "execution_count": 60,
   "metadata": {},
   "outputs": [],
   "source": [
    "os.chdir('/Users/kalpakullachandasubbaiah/Desktop/WOMENS FOLDER/womens-ecommerce-clothing-reviews')"
   ]
  },
  {
   "cell_type": "markdown",
   "metadata": {},
   "source": [
    "#### Read the data"
   ]
  },
  {
   "cell_type": "code",
   "execution_count": 61,
   "metadata": {},
   "outputs": [],
   "source": [
    "data= pd.read_csv('Womens Clothing E-Commerce Reviews.csv')"
   ]
  },
  {
   "cell_type": "markdown",
   "metadata": {},
   "source": [
    "### Understand the data"
   ]
  },
  {
   "cell_type": "code",
   "execution_count": 62,
   "metadata": {},
   "outputs": [
    {
     "data": {
      "text/plain": [
       "(23486, 11)"
      ]
     },
     "execution_count": 62,
     "metadata": {},
     "output_type": "execute_result"
    }
   ],
   "source": [
    "data.shape"
   ]
  },
  {
   "cell_type": "code",
   "execution_count": 63,
   "metadata": {},
   "outputs": [
    {
     "data": {
      "text/html": [
       "<div>\n",
       "<style scoped>\n",
       "    .dataframe tbody tr th:only-of-type {\n",
       "        vertical-align: middle;\n",
       "    }\n",
       "\n",
       "    .dataframe tbody tr th {\n",
       "        vertical-align: top;\n",
       "    }\n",
       "\n",
       "    .dataframe thead th {\n",
       "        text-align: right;\n",
       "    }\n",
       "</style>\n",
       "<table border=\"1\" class=\"dataframe\">\n",
       "  <thead>\n",
       "    <tr style=\"text-align: right;\">\n",
       "      <th></th>\n",
       "      <th>Unnamed: 0</th>\n",
       "      <th>Clothing ID</th>\n",
       "      <th>Age</th>\n",
       "      <th>Title</th>\n",
       "      <th>Review Text</th>\n",
       "      <th>Rating</th>\n",
       "      <th>Recommended IND</th>\n",
       "      <th>Positive Feedback Count</th>\n",
       "      <th>Division Name</th>\n",
       "      <th>Department Name</th>\n",
       "      <th>Class Name</th>\n",
       "    </tr>\n",
       "  </thead>\n",
       "  <tbody>\n",
       "    <tr>\n",
       "      <th>0</th>\n",
       "      <td>0</td>\n",
       "      <td>767</td>\n",
       "      <td>33</td>\n",
       "      <td>NaN</td>\n",
       "      <td>Absolutely wonderful - silky and sexy and comf...</td>\n",
       "      <td>4</td>\n",
       "      <td>1</td>\n",
       "      <td>0</td>\n",
       "      <td>Initmates</td>\n",
       "      <td>Intimate</td>\n",
       "      <td>Intimates</td>\n",
       "    </tr>\n",
       "    <tr>\n",
       "      <th>1</th>\n",
       "      <td>1</td>\n",
       "      <td>1080</td>\n",
       "      <td>34</td>\n",
       "      <td>NaN</td>\n",
       "      <td>Love this dress!  it's sooo pretty.  i happene...</td>\n",
       "      <td>5</td>\n",
       "      <td>1</td>\n",
       "      <td>4</td>\n",
       "      <td>General</td>\n",
       "      <td>Dresses</td>\n",
       "      <td>Dresses</td>\n",
       "    </tr>\n",
       "    <tr>\n",
       "      <th>2</th>\n",
       "      <td>2</td>\n",
       "      <td>1077</td>\n",
       "      <td>60</td>\n",
       "      <td>Some major design flaws</td>\n",
       "      <td>I had such high hopes for this dress and reall...</td>\n",
       "      <td>3</td>\n",
       "      <td>0</td>\n",
       "      <td>0</td>\n",
       "      <td>General</td>\n",
       "      <td>Dresses</td>\n",
       "      <td>Dresses</td>\n",
       "    </tr>\n",
       "    <tr>\n",
       "      <th>3</th>\n",
       "      <td>3</td>\n",
       "      <td>1049</td>\n",
       "      <td>50</td>\n",
       "      <td>My favorite buy!</td>\n",
       "      <td>I love, love, love this jumpsuit. it's fun, fl...</td>\n",
       "      <td>5</td>\n",
       "      <td>1</td>\n",
       "      <td>0</td>\n",
       "      <td>General Petite</td>\n",
       "      <td>Bottoms</td>\n",
       "      <td>Pants</td>\n",
       "    </tr>\n",
       "    <tr>\n",
       "      <th>4</th>\n",
       "      <td>4</td>\n",
       "      <td>847</td>\n",
       "      <td>47</td>\n",
       "      <td>Flattering shirt</td>\n",
       "      <td>This shirt is very flattering to all due to th...</td>\n",
       "      <td>5</td>\n",
       "      <td>1</td>\n",
       "      <td>6</td>\n",
       "      <td>General</td>\n",
       "      <td>Tops</td>\n",
       "      <td>Blouses</td>\n",
       "    </tr>\n",
       "  </tbody>\n",
       "</table>\n",
       "</div>"
      ],
      "text/plain": [
       "   Unnamed: 0  Clothing ID  Age                    Title  \\\n",
       "0           0          767   33                      NaN   \n",
       "1           1         1080   34                      NaN   \n",
       "2           2         1077   60  Some major design flaws   \n",
       "3           3         1049   50         My favorite buy!   \n",
       "4           4          847   47         Flattering shirt   \n",
       "\n",
       "                                         Review Text  Rating  Recommended IND  \\\n",
       "0  Absolutely wonderful - silky and sexy and comf...       4                1   \n",
       "1  Love this dress!  it's sooo pretty.  i happene...       5                1   \n",
       "2  I had such high hopes for this dress and reall...       3                0   \n",
       "3  I love, love, love this jumpsuit. it's fun, fl...       5                1   \n",
       "4  This shirt is very flattering to all due to th...       5                1   \n",
       "\n",
       "   Positive Feedback Count   Division Name Department Name Class Name  \n",
       "0                        0       Initmates        Intimate  Intimates  \n",
       "1                        4         General         Dresses    Dresses  \n",
       "2                        0         General         Dresses    Dresses  \n",
       "3                        0  General Petite         Bottoms      Pants  \n",
       "4                        6         General            Tops    Blouses  "
      ]
     },
     "execution_count": 63,
     "metadata": {},
     "output_type": "execute_result"
    }
   ],
   "source": [
    "data.head()"
   ]
  },
  {
   "cell_type": "code",
   "execution_count": 64,
   "metadata": {},
   "outputs": [
    {
     "data": {
      "text/html": [
       "<div>\n",
       "<style scoped>\n",
       "    .dataframe tbody tr th:only-of-type {\n",
       "        vertical-align: middle;\n",
       "    }\n",
       "\n",
       "    .dataframe tbody tr th {\n",
       "        vertical-align: top;\n",
       "    }\n",
       "\n",
       "    .dataframe thead th {\n",
       "        text-align: right;\n",
       "    }\n",
       "</style>\n",
       "<table border=\"1\" class=\"dataframe\">\n",
       "  <thead>\n",
       "    <tr style=\"text-align: right;\">\n",
       "      <th></th>\n",
       "      <th>Unnamed: 0</th>\n",
       "      <th>Clothing ID</th>\n",
       "      <th>Age</th>\n",
       "      <th>Title</th>\n",
       "      <th>Review Text</th>\n",
       "      <th>Rating</th>\n",
       "      <th>Recommended IND</th>\n",
       "      <th>Positive Feedback Count</th>\n",
       "      <th>Division Name</th>\n",
       "      <th>Department Name</th>\n",
       "      <th>Class Name</th>\n",
       "    </tr>\n",
       "  </thead>\n",
       "  <tbody>\n",
       "    <tr>\n",
       "      <th>23481</th>\n",
       "      <td>23481</td>\n",
       "      <td>1104</td>\n",
       "      <td>34</td>\n",
       "      <td>Great dress for many occasions</td>\n",
       "      <td>I was very happy to snag this dress at such a ...</td>\n",
       "      <td>5</td>\n",
       "      <td>1</td>\n",
       "      <td>0</td>\n",
       "      <td>General Petite</td>\n",
       "      <td>Dresses</td>\n",
       "      <td>Dresses</td>\n",
       "    </tr>\n",
       "    <tr>\n",
       "      <th>23482</th>\n",
       "      <td>23482</td>\n",
       "      <td>862</td>\n",
       "      <td>48</td>\n",
       "      <td>Wish it was made of cotton</td>\n",
       "      <td>It reminds me of maternity clothes. soft, stre...</td>\n",
       "      <td>3</td>\n",
       "      <td>1</td>\n",
       "      <td>0</td>\n",
       "      <td>General Petite</td>\n",
       "      <td>Tops</td>\n",
       "      <td>Knits</td>\n",
       "    </tr>\n",
       "    <tr>\n",
       "      <th>23483</th>\n",
       "      <td>23483</td>\n",
       "      <td>1104</td>\n",
       "      <td>31</td>\n",
       "      <td>Cute, but see through</td>\n",
       "      <td>This fit well, but the top was very see throug...</td>\n",
       "      <td>3</td>\n",
       "      <td>0</td>\n",
       "      <td>1</td>\n",
       "      <td>General Petite</td>\n",
       "      <td>Dresses</td>\n",
       "      <td>Dresses</td>\n",
       "    </tr>\n",
       "    <tr>\n",
       "      <th>23484</th>\n",
       "      <td>23484</td>\n",
       "      <td>1084</td>\n",
       "      <td>28</td>\n",
       "      <td>Very cute dress, perfect for summer parties an...</td>\n",
       "      <td>I bought this dress for a wedding i have this ...</td>\n",
       "      <td>3</td>\n",
       "      <td>1</td>\n",
       "      <td>2</td>\n",
       "      <td>General</td>\n",
       "      <td>Dresses</td>\n",
       "      <td>Dresses</td>\n",
       "    </tr>\n",
       "    <tr>\n",
       "      <th>23485</th>\n",
       "      <td>23485</td>\n",
       "      <td>1104</td>\n",
       "      <td>52</td>\n",
       "      <td>Please make more like this one!</td>\n",
       "      <td>This dress in a lovely platinum is feminine an...</td>\n",
       "      <td>5</td>\n",
       "      <td>1</td>\n",
       "      <td>22</td>\n",
       "      <td>General Petite</td>\n",
       "      <td>Dresses</td>\n",
       "      <td>Dresses</td>\n",
       "    </tr>\n",
       "  </tbody>\n",
       "</table>\n",
       "</div>"
      ],
      "text/plain": [
       "       Unnamed: 0  Clothing ID  Age  \\\n",
       "23481       23481         1104   34   \n",
       "23482       23482          862   48   \n",
       "23483       23483         1104   31   \n",
       "23484       23484         1084   28   \n",
       "23485       23485         1104   52   \n",
       "\n",
       "                                                   Title  \\\n",
       "23481                     Great dress for many occasions   \n",
       "23482                         Wish it was made of cotton   \n",
       "23483                              Cute, but see through   \n",
       "23484  Very cute dress, perfect for summer parties an...   \n",
       "23485                    Please make more like this one!   \n",
       "\n",
       "                                             Review Text  Rating  \\\n",
       "23481  I was very happy to snag this dress at such a ...       5   \n",
       "23482  It reminds me of maternity clothes. soft, stre...       3   \n",
       "23483  This fit well, but the top was very see throug...       3   \n",
       "23484  I bought this dress for a wedding i have this ...       3   \n",
       "23485  This dress in a lovely platinum is feminine an...       5   \n",
       "\n",
       "       Recommended IND  Positive Feedback Count   Division Name  \\\n",
       "23481                1                        0  General Petite   \n",
       "23482                1                        0  General Petite   \n",
       "23483                0                        1  General Petite   \n",
       "23484                1                        2         General   \n",
       "23485                1                       22  General Petite   \n",
       "\n",
       "      Department Name Class Name  \n",
       "23481         Dresses    Dresses  \n",
       "23482            Tops      Knits  \n",
       "23483         Dresses    Dresses  \n",
       "23484         Dresses    Dresses  \n",
       "23485         Dresses    Dresses  "
      ]
     },
     "execution_count": 64,
     "metadata": {},
     "output_type": "execute_result"
    }
   ],
   "source": [
    "data.tail()"
   ]
  },
  {
   "cell_type": "code",
   "execution_count": 65,
   "metadata": {},
   "outputs": [
    {
     "data": {
      "text/html": [
       "<div>\n",
       "<style scoped>\n",
       "    .dataframe tbody tr th:only-of-type {\n",
       "        vertical-align: middle;\n",
       "    }\n",
       "\n",
       "    .dataframe tbody tr th {\n",
       "        vertical-align: top;\n",
       "    }\n",
       "\n",
       "    .dataframe thead th {\n",
       "        text-align: right;\n",
       "    }\n",
       "</style>\n",
       "<table border=\"1\" class=\"dataframe\">\n",
       "  <thead>\n",
       "    <tr style=\"text-align: right;\">\n",
       "      <th></th>\n",
       "      <th>Unnamed: 0</th>\n",
       "      <th>Clothing ID</th>\n",
       "      <th>Age</th>\n",
       "      <th>Title</th>\n",
       "      <th>Review Text</th>\n",
       "      <th>Rating</th>\n",
       "      <th>Recommended IND</th>\n",
       "      <th>Positive Feedback Count</th>\n",
       "      <th>Division Name</th>\n",
       "      <th>Department Name</th>\n",
       "      <th>Class Name</th>\n",
       "    </tr>\n",
       "  </thead>\n",
       "  <tbody>\n",
       "    <tr>\n",
       "      <th>count</th>\n",
       "      <td>23486.000000</td>\n",
       "      <td>23486.000000</td>\n",
       "      <td>23486.000000</td>\n",
       "      <td>19676</td>\n",
       "      <td>22641</td>\n",
       "      <td>23486.000000</td>\n",
       "      <td>23486.000000</td>\n",
       "      <td>23486.000000</td>\n",
       "      <td>23472</td>\n",
       "      <td>23472</td>\n",
       "      <td>23472</td>\n",
       "    </tr>\n",
       "    <tr>\n",
       "      <th>unique</th>\n",
       "      <td>NaN</td>\n",
       "      <td>NaN</td>\n",
       "      <td>NaN</td>\n",
       "      <td>13993</td>\n",
       "      <td>22634</td>\n",
       "      <td>NaN</td>\n",
       "      <td>NaN</td>\n",
       "      <td>NaN</td>\n",
       "      <td>3</td>\n",
       "      <td>6</td>\n",
       "      <td>20</td>\n",
       "    </tr>\n",
       "    <tr>\n",
       "      <th>top</th>\n",
       "      <td>NaN</td>\n",
       "      <td>NaN</td>\n",
       "      <td>NaN</td>\n",
       "      <td>Love it!</td>\n",
       "      <td>Perfect fit and i've gotten so many compliment...</td>\n",
       "      <td>NaN</td>\n",
       "      <td>NaN</td>\n",
       "      <td>NaN</td>\n",
       "      <td>General</td>\n",
       "      <td>Tops</td>\n",
       "      <td>Dresses</td>\n",
       "    </tr>\n",
       "    <tr>\n",
       "      <th>freq</th>\n",
       "      <td>NaN</td>\n",
       "      <td>NaN</td>\n",
       "      <td>NaN</td>\n",
       "      <td>136</td>\n",
       "      <td>3</td>\n",
       "      <td>NaN</td>\n",
       "      <td>NaN</td>\n",
       "      <td>NaN</td>\n",
       "      <td>13850</td>\n",
       "      <td>10468</td>\n",
       "      <td>6319</td>\n",
       "    </tr>\n",
       "    <tr>\n",
       "      <th>mean</th>\n",
       "      <td>11742.500000</td>\n",
       "      <td>918.118709</td>\n",
       "      <td>43.198544</td>\n",
       "      <td>NaN</td>\n",
       "      <td>NaN</td>\n",
       "      <td>4.196032</td>\n",
       "      <td>0.822362</td>\n",
       "      <td>2.535936</td>\n",
       "      <td>NaN</td>\n",
       "      <td>NaN</td>\n",
       "      <td>NaN</td>\n",
       "    </tr>\n",
       "    <tr>\n",
       "      <th>std</th>\n",
       "      <td>6779.968547</td>\n",
       "      <td>203.298980</td>\n",
       "      <td>12.279544</td>\n",
       "      <td>NaN</td>\n",
       "      <td>NaN</td>\n",
       "      <td>1.110031</td>\n",
       "      <td>0.382216</td>\n",
       "      <td>5.702202</td>\n",
       "      <td>NaN</td>\n",
       "      <td>NaN</td>\n",
       "      <td>NaN</td>\n",
       "    </tr>\n",
       "    <tr>\n",
       "      <th>min</th>\n",
       "      <td>0.000000</td>\n",
       "      <td>0.000000</td>\n",
       "      <td>18.000000</td>\n",
       "      <td>NaN</td>\n",
       "      <td>NaN</td>\n",
       "      <td>1.000000</td>\n",
       "      <td>0.000000</td>\n",
       "      <td>0.000000</td>\n",
       "      <td>NaN</td>\n",
       "      <td>NaN</td>\n",
       "      <td>NaN</td>\n",
       "    </tr>\n",
       "    <tr>\n",
       "      <th>25%</th>\n",
       "      <td>5871.250000</td>\n",
       "      <td>861.000000</td>\n",
       "      <td>34.000000</td>\n",
       "      <td>NaN</td>\n",
       "      <td>NaN</td>\n",
       "      <td>4.000000</td>\n",
       "      <td>1.000000</td>\n",
       "      <td>0.000000</td>\n",
       "      <td>NaN</td>\n",
       "      <td>NaN</td>\n",
       "      <td>NaN</td>\n",
       "    </tr>\n",
       "    <tr>\n",
       "      <th>50%</th>\n",
       "      <td>11742.500000</td>\n",
       "      <td>936.000000</td>\n",
       "      <td>41.000000</td>\n",
       "      <td>NaN</td>\n",
       "      <td>NaN</td>\n",
       "      <td>5.000000</td>\n",
       "      <td>1.000000</td>\n",
       "      <td>1.000000</td>\n",
       "      <td>NaN</td>\n",
       "      <td>NaN</td>\n",
       "      <td>NaN</td>\n",
       "    </tr>\n",
       "    <tr>\n",
       "      <th>75%</th>\n",
       "      <td>17613.750000</td>\n",
       "      <td>1078.000000</td>\n",
       "      <td>52.000000</td>\n",
       "      <td>NaN</td>\n",
       "      <td>NaN</td>\n",
       "      <td>5.000000</td>\n",
       "      <td>1.000000</td>\n",
       "      <td>3.000000</td>\n",
       "      <td>NaN</td>\n",
       "      <td>NaN</td>\n",
       "      <td>NaN</td>\n",
       "    </tr>\n",
       "    <tr>\n",
       "      <th>max</th>\n",
       "      <td>23485.000000</td>\n",
       "      <td>1205.000000</td>\n",
       "      <td>99.000000</td>\n",
       "      <td>NaN</td>\n",
       "      <td>NaN</td>\n",
       "      <td>5.000000</td>\n",
       "      <td>1.000000</td>\n",
       "      <td>122.000000</td>\n",
       "      <td>NaN</td>\n",
       "      <td>NaN</td>\n",
       "      <td>NaN</td>\n",
       "    </tr>\n",
       "  </tbody>\n",
       "</table>\n",
       "</div>"
      ],
      "text/plain": [
       "          Unnamed: 0   Clothing ID           Age     Title  \\\n",
       "count   23486.000000  23486.000000  23486.000000     19676   \n",
       "unique           NaN           NaN           NaN     13993   \n",
       "top              NaN           NaN           NaN  Love it!   \n",
       "freq             NaN           NaN           NaN       136   \n",
       "mean    11742.500000    918.118709     43.198544       NaN   \n",
       "std      6779.968547    203.298980     12.279544       NaN   \n",
       "min         0.000000      0.000000     18.000000       NaN   \n",
       "25%      5871.250000    861.000000     34.000000       NaN   \n",
       "50%     11742.500000    936.000000     41.000000       NaN   \n",
       "75%     17613.750000   1078.000000     52.000000       NaN   \n",
       "max     23485.000000   1205.000000     99.000000       NaN   \n",
       "\n",
       "                                              Review Text        Rating  \\\n",
       "count                                               22641  23486.000000   \n",
       "unique                                              22634           NaN   \n",
       "top     Perfect fit and i've gotten so many compliment...           NaN   \n",
       "freq                                                    3           NaN   \n",
       "mean                                                  NaN      4.196032   \n",
       "std                                                   NaN      1.110031   \n",
       "min                                                   NaN      1.000000   \n",
       "25%                                                   NaN      4.000000   \n",
       "50%                                                   NaN      5.000000   \n",
       "75%                                                   NaN      5.000000   \n",
       "max                                                   NaN      5.000000   \n",
       "\n",
       "        Recommended IND  Positive Feedback Count Division Name  \\\n",
       "count      23486.000000             23486.000000         23472   \n",
       "unique              NaN                      NaN             3   \n",
       "top                 NaN                      NaN       General   \n",
       "freq                NaN                      NaN         13850   \n",
       "mean           0.822362                 2.535936           NaN   \n",
       "std            0.382216                 5.702202           NaN   \n",
       "min            0.000000                 0.000000           NaN   \n",
       "25%            1.000000                 0.000000           NaN   \n",
       "50%            1.000000                 1.000000           NaN   \n",
       "75%            1.000000                 3.000000           NaN   \n",
       "max            1.000000               122.000000           NaN   \n",
       "\n",
       "       Department Name Class Name  \n",
       "count            23472      23472  \n",
       "unique               6         20  \n",
       "top               Tops    Dresses  \n",
       "freq             10468       6319  \n",
       "mean               NaN        NaN  \n",
       "std                NaN        NaN  \n",
       "min                NaN        NaN  \n",
       "25%                NaN        NaN  \n",
       "50%                NaN        NaN  \n",
       "75%                NaN        NaN  \n",
       "max                NaN        NaN  "
      ]
     },
     "execution_count": 65,
     "metadata": {},
     "output_type": "execute_result"
    }
   ],
   "source": [
    "data.describe(include='all')"
   ]
  },
  {
   "cell_type": "code",
   "execution_count": 66,
   "metadata": {},
   "outputs": [
    {
     "name": "stdout",
     "output_type": "stream",
     "text": [
      "<class 'pandas.core.frame.DataFrame'>\n",
      "RangeIndex: 23486 entries, 0 to 23485\n",
      "Data columns (total 11 columns):\n",
      "Unnamed: 0                 23486 non-null int64\n",
      "Clothing ID                23486 non-null int64\n",
      "Age                        23486 non-null int64\n",
      "Title                      19676 non-null object\n",
      "Review Text                22641 non-null object\n",
      "Rating                     23486 non-null int64\n",
      "Recommended IND            23486 non-null int64\n",
      "Positive Feedback Count    23486 non-null int64\n",
      "Division Name              23472 non-null object\n",
      "Department Name            23472 non-null object\n",
      "Class Name                 23472 non-null object\n",
      "dtypes: int64(6), object(5)\n",
      "memory usage: 2.0+ MB\n"
     ]
    }
   ],
   "source": [
    "data.info()"
   ]
  },
  {
   "cell_type": "markdown",
   "metadata": {},
   "source": [
    "#### Remove the columns Unnamed:0 and Title"
   ]
  },
  {
   "cell_type": "code",
   "execution_count": 67,
   "metadata": {},
   "outputs": [],
   "source": [
    "data=data.drop(labels=['Unnamed: 0','Title'], axis=1)"
   ]
  },
  {
   "cell_type": "code",
   "execution_count": 68,
   "metadata": {},
   "outputs": [
    {
     "data": {
      "text/html": [
       "<div>\n",
       "<style scoped>\n",
       "    .dataframe tbody tr th:only-of-type {\n",
       "        vertical-align: middle;\n",
       "    }\n",
       "\n",
       "    .dataframe tbody tr th {\n",
       "        vertical-align: top;\n",
       "    }\n",
       "\n",
       "    .dataframe thead th {\n",
       "        text-align: right;\n",
       "    }\n",
       "</style>\n",
       "<table border=\"1\" class=\"dataframe\">\n",
       "  <thead>\n",
       "    <tr style=\"text-align: right;\">\n",
       "      <th></th>\n",
       "      <th>Clothing ID</th>\n",
       "      <th>Age</th>\n",
       "      <th>Review Text</th>\n",
       "      <th>Rating</th>\n",
       "      <th>Recommended IND</th>\n",
       "      <th>Positive Feedback Count</th>\n",
       "      <th>Division Name</th>\n",
       "      <th>Department Name</th>\n",
       "      <th>Class Name</th>\n",
       "    </tr>\n",
       "  </thead>\n",
       "  <tbody>\n",
       "    <tr>\n",
       "      <th>0</th>\n",
       "      <td>767</td>\n",
       "      <td>33</td>\n",
       "      <td>Absolutely wonderful - silky and sexy and comf...</td>\n",
       "      <td>4</td>\n",
       "      <td>1</td>\n",
       "      <td>0</td>\n",
       "      <td>Initmates</td>\n",
       "      <td>Intimate</td>\n",
       "      <td>Intimates</td>\n",
       "    </tr>\n",
       "    <tr>\n",
       "      <th>1</th>\n",
       "      <td>1080</td>\n",
       "      <td>34</td>\n",
       "      <td>Love this dress!  it's sooo pretty.  i happene...</td>\n",
       "      <td>5</td>\n",
       "      <td>1</td>\n",
       "      <td>4</td>\n",
       "      <td>General</td>\n",
       "      <td>Dresses</td>\n",
       "      <td>Dresses</td>\n",
       "    </tr>\n",
       "    <tr>\n",
       "      <th>2</th>\n",
       "      <td>1077</td>\n",
       "      <td>60</td>\n",
       "      <td>I had such high hopes for this dress and reall...</td>\n",
       "      <td>3</td>\n",
       "      <td>0</td>\n",
       "      <td>0</td>\n",
       "      <td>General</td>\n",
       "      <td>Dresses</td>\n",
       "      <td>Dresses</td>\n",
       "    </tr>\n",
       "    <tr>\n",
       "      <th>3</th>\n",
       "      <td>1049</td>\n",
       "      <td>50</td>\n",
       "      <td>I love, love, love this jumpsuit. it's fun, fl...</td>\n",
       "      <td>5</td>\n",
       "      <td>1</td>\n",
       "      <td>0</td>\n",
       "      <td>General Petite</td>\n",
       "      <td>Bottoms</td>\n",
       "      <td>Pants</td>\n",
       "    </tr>\n",
       "    <tr>\n",
       "      <th>4</th>\n",
       "      <td>847</td>\n",
       "      <td>47</td>\n",
       "      <td>This shirt is very flattering to all due to th...</td>\n",
       "      <td>5</td>\n",
       "      <td>1</td>\n",
       "      <td>6</td>\n",
       "      <td>General</td>\n",
       "      <td>Tops</td>\n",
       "      <td>Blouses</td>\n",
       "    </tr>\n",
       "  </tbody>\n",
       "</table>\n",
       "</div>"
      ],
      "text/plain": [
       "   Clothing ID  Age                                        Review Text  \\\n",
       "0          767   33  Absolutely wonderful - silky and sexy and comf...   \n",
       "1         1080   34  Love this dress!  it's sooo pretty.  i happene...   \n",
       "2         1077   60  I had such high hopes for this dress and reall...   \n",
       "3         1049   50  I love, love, love this jumpsuit. it's fun, fl...   \n",
       "4          847   47  This shirt is very flattering to all due to th...   \n",
       "\n",
       "   Rating  Recommended IND  Positive Feedback Count   Division Name  \\\n",
       "0       4                1                        0       Initmates   \n",
       "1       5                1                        4         General   \n",
       "2       3                0                        0         General   \n",
       "3       5                1                        0  General Petite   \n",
       "4       5                1                        6         General   \n",
       "\n",
       "  Department Name Class Name  \n",
       "0        Intimate  Intimates  \n",
       "1         Dresses    Dresses  \n",
       "2         Dresses    Dresses  \n",
       "3         Bottoms      Pants  \n",
       "4            Tops    Blouses  "
      ]
     },
     "execution_count": 68,
     "metadata": {},
     "output_type": "execute_result"
    }
   ],
   "source": [
    "data.head()"
   ]
  },
  {
   "cell_type": "markdown",
   "metadata": {},
   "source": [
    "#### Identify the unique values for each of the attributes"
   ]
  },
  {
   "cell_type": "code",
   "execution_count": 69,
   "metadata": {},
   "outputs": [
    {
     "name": "stdout",
     "output_type": "stream",
     "text": [
      "Clothing ID\n",
      "1078    1024\n",
      "862      806\n",
      "1094     756\n",
      "1081     582\n",
      "872      545\n",
      "829      527\n",
      "1110     480\n",
      "868      430\n",
      "895      404\n",
      "936      358\n",
      "867      351\n",
      "850      338\n",
      "1095     327\n",
      "863      306\n",
      "1077     297\n",
      "1059     294\n",
      "1086     291\n",
      "1080     289\n",
      "860      288\n",
      "1083     249\n",
      "861      244\n",
      "873      238\n",
      "828      225\n",
      "1092     220\n",
      "1033     220\n",
      "927      214\n",
      "1056     213\n",
      "820      211\n",
      "836      205\n",
      "1022     205\n",
      "        ... \n",
      "88         1\n",
      "72         1\n",
      "56         1\n",
      "1191       1\n",
      "1175       1\n",
      "1183       1\n",
      "1127       1\n",
      "887        1\n",
      "600        1\n",
      "648        1\n",
      "680        1\n",
      "712        1\n",
      "137        1\n",
      "105        1\n",
      "89         1\n",
      "73         1\n",
      "57         1\n",
      "41         1\n",
      "25         1\n",
      "9          1\n",
      "1176       1\n",
      "1160       1\n",
      "1032       1\n",
      "856        1\n",
      "808        1\n",
      "792        1\n",
      "776        1\n",
      "744        1\n",
      "728        1\n",
      "0          1\n",
      "Length: 1206, dtype: int64\n",
      "Age\n",
      "39    1269\n",
      "35     909\n",
      "36     842\n",
      "34     804\n",
      "38     780\n",
      "37     766\n",
      "41     741\n",
      "33     725\n",
      "46     713\n",
      "42     651\n",
      "32     631\n",
      "48     626\n",
      "44     617\n",
      "40     617\n",
      "43     579\n",
      "31     569\n",
      "47     564\n",
      "53     560\n",
      "45     529\n",
      "29     513\n",
      "49     490\n",
      "56     471\n",
      "52     442\n",
      "28     428\n",
      "26     423\n",
      "30     407\n",
      "50     398\n",
      "54     395\n",
      "51     393\n",
      "57     363\n",
      "      ... \n",
      "69     113\n",
      "20     108\n",
      "21     102\n",
      "70      93\n",
      "71      51\n",
      "74      50\n",
      "72      46\n",
      "83      43\n",
      "73      40\n",
      "19      40\n",
      "75      26\n",
      "77      18\n",
      "79      15\n",
      "78      15\n",
      "82      13\n",
      "76      10\n",
      "80      10\n",
      "85       6\n",
      "84       6\n",
      "89       5\n",
      "91       5\n",
      "81       5\n",
      "18       4\n",
      "87       4\n",
      "94       3\n",
      "93       2\n",
      "90       2\n",
      "86       2\n",
      "99       2\n",
      "92       1\n",
      "Length: 77, dtype: int64\n",
      "Rating\n",
      "5    13131\n",
      "4     5077\n",
      "3     2871\n",
      "2     1565\n",
      "1      842\n",
      "dtype: int64\n",
      "Recommended IND\n",
      "1    19314\n",
      "0     4172\n",
      "dtype: int64\n",
      "Positive Feedback Count\n",
      "0      11176\n",
      "1       4043\n",
      "2       2193\n",
      "3       1433\n",
      "4        922\n",
      "5        673\n",
      "6        525\n",
      "7        374\n",
      "8        319\n",
      "9        261\n",
      "10       225\n",
      "11       178\n",
      "12       146\n",
      "14       121\n",
      "13       102\n",
      "15        94\n",
      "17        81\n",
      "16        74\n",
      "18        62\n",
      "19        54\n",
      "20        40\n",
      "23        31\n",
      "21        30\n",
      "22        29\n",
      "25        25\n",
      "28        24\n",
      "26        23\n",
      "24        21\n",
      "27        20\n",
      "30        18\n",
      "       ...  \n",
      "49         2\n",
      "46         2\n",
      "55         2\n",
      "58         2\n",
      "66         1\n",
      "50         1\n",
      "64         1\n",
      "94         1\n",
      "48         1\n",
      "98         1\n",
      "78         1\n",
      "82         1\n",
      "59         1\n",
      "93         1\n",
      "69         1\n",
      "87         1\n",
      "71         1\n",
      "54         1\n",
      "89         1\n",
      "108        1\n",
      "117        1\n",
      "122        1\n",
      "77         1\n",
      "84         1\n",
      "68         1\n",
      "52         1\n",
      "56         1\n",
      "61         1\n",
      "99         1\n",
      "95         1\n",
      "Length: 82, dtype: int64\n",
      "Division Name\n",
      "General           13850\n",
      "General Petite     8120\n",
      "Initmates          1502\n",
      "dtype: int64\n",
      "Department Name\n",
      "Tops        10468\n",
      "Dresses      6319\n",
      "Bottoms      3799\n",
      "Intimate     1735\n",
      "Jackets      1032\n",
      "Trend         119\n",
      "dtype: int64\n",
      "Class Name\n",
      "Dresses           6319\n",
      "Knits             4843\n",
      "Blouses           3097\n",
      "Sweaters          1428\n",
      "Pants             1388\n",
      "Jeans             1147\n",
      "Fine gauge        1100\n",
      "Skirts             945\n",
      "Jackets            704\n",
      "Lounge             691\n",
      "Swim               350\n",
      "Outerwear          328\n",
      "Shorts             317\n",
      "Sleep              228\n",
      "Legwear            165\n",
      "Intimates          154\n",
      "Layering           146\n",
      "Trend              119\n",
      "Casual bottoms       2\n",
      "Chemises             1\n",
      "dtype: int64\n"
     ]
    }
   ],
   "source": [
    "for i in data.columns.values:\n",
    "    if i in 'Review Text':\n",
    "        continue\n",
    "    print (i)\n",
    "    print (pd.value_counts(data[i].values))"
   ]
  },
  {
   "cell_type": "markdown",
   "metadata": {},
   "source": [
    "#### Verify missing value "
   ]
  },
  {
   "cell_type": "code",
   "execution_count": 70,
   "metadata": {},
   "outputs": [
    {
     "data": {
      "text/plain": [
       "Clothing ID                  0\n",
       "Age                          0\n",
       "Review Text                845\n",
       "Rating                       0\n",
       "Recommended IND              0\n",
       "Positive Feedback Count      0\n",
       "Division Name               14\n",
       "Department Name             14\n",
       "Class Name                  14\n",
       "dtype: int64"
      ]
     },
     "execution_count": 70,
     "metadata": {},
     "output_type": "execute_result"
    }
   ],
   "source": [
    "data.isnull().sum()"
   ]
  },
  {
   "cell_type": "markdown",
   "metadata": {},
   "source": [
    "#### Missing value imputation"
   ]
  },
  {
   "cell_type": "code",
   "execution_count": 71,
   "metadata": {},
   "outputs": [
    {
     "data": {
      "text/plain": [
       "Clothing ID                0\n",
       "Age                        0\n",
       "Review Text                0\n",
       "Rating                     0\n",
       "Recommended IND            0\n",
       "Positive Feedback Count    0\n",
       "Division Name              0\n",
       "Department Name            0\n",
       "Class Name                 0\n",
       "dtype: int64"
      ]
     },
     "execution_count": 71,
     "metadata": {},
     "output_type": "execute_result"
    }
   ],
   "source": [
    "data = data.dropna()\n",
    "data.isnull().sum()"
   ]
  },
  {
   "cell_type": "markdown",
   "metadata": {},
   "source": [
    "#### Change the data types accordingly"
   ]
  },
  {
   "cell_type": "code",
   "execution_count": 72,
   "metadata": {},
   "outputs": [],
   "source": [
    "numerical = ['Age','Positive Feedback Count']\n",
    "categorical =['Rating','Recommended IND','Division Name','Department Name','Class Name']\n",
    "string = 'Review Text'"
   ]
  },
  {
   "cell_type": "code",
   "execution_count": 73,
   "metadata": {},
   "outputs": [],
   "source": [
    "for num in numerical:\n",
    "    data[num] = pd.to_numeric(data[num])\n",
    "    \n",
    "for cat in categorical:\n",
    "    data[cat] = data[cat].astype('category')"
   ]
  },
  {
   "cell_type": "code",
   "execution_count": 74,
   "metadata": {},
   "outputs": [
    {
     "name": "stdout",
     "output_type": "stream",
     "text": [
      "<class 'pandas.core.frame.DataFrame'>\n",
      "Int64Index: 22628 entries, 0 to 23485\n",
      "Data columns (total 9 columns):\n",
      "Clothing ID                22628 non-null int64\n",
      "Age                        22628 non-null int64\n",
      "Review Text                22628 non-null object\n",
      "Rating                     22628 non-null category\n",
      "Recommended IND            22628 non-null category\n",
      "Positive Feedback Count    22628 non-null int64\n",
      "Division Name              22628 non-null category\n",
      "Department Name            22628 non-null category\n",
      "Class Name                 22628 non-null category\n",
      "dtypes: category(5), int64(3), object(1)\n",
      "memory usage: 995.8+ KB\n"
     ]
    }
   ],
   "source": [
    "data.info()"
   ]
  },
  {
   "cell_type": "markdown",
   "metadata": {},
   "source": [
    "#### Attribute Clothing ID is not treated as a continuous variable since the values are repeating\n",
    "Since there are 1172 different values in 'Clothing ID' dummyfying it will cause sparser matrix (having many 0's)\n",
    "\n",
    "Therefore we are choosing to use categorical embedding"
   ]
  },
  {
   "cell_type": "code",
   "execution_count": 75,
   "metadata": {},
   "outputs": [
    {
     "data": {
      "text/plain": [
       "1172"
      ]
     },
     "execution_count": 75,
     "metadata": {},
     "output_type": "execute_result"
    }
   ],
   "source": [
    "clothing_id_levels = np.size(np.unique(data['Clothing ID'], return_counts=True)[0])\n",
    "clothing_id_levels"
   ]
  },
  {
   "cell_type": "code",
   "execution_count": 76,
   "metadata": {},
   "outputs": [],
   "source": [
    "clothing_id_ind_attr = data['Clothing ID'].values"
   ]
  },
  {
   "cell_type": "code",
   "execution_count": 77,
   "metadata": {},
   "outputs": [
    {
     "data": {
      "text/plain": [
       "(22628,)"
      ]
     },
     "execution_count": 77,
     "metadata": {},
     "output_type": "execute_result"
    }
   ],
   "source": [
    "clothing_id_ind_attr.shape\n"
   ]
  },
  {
   "cell_type": "code",
   "execution_count": 78,
   "metadata": {},
   "outputs": [],
   "source": [
    "clothing_id_input = Input(shape=(1, ), name=\"Clothing_ID\")\n",
    "clothing_id_embed = Embedding(input_dim=clothing_id_ind_attr.shape[0], output_dim=EMBEDDING_DIM)(clothing_id_input)\n",
    "clothing_id_embed_flat = Flatten()(clothing_id_embed)"
   ]
  },
  {
   "cell_type": "markdown",
   "metadata": {},
   "source": [
    "### Pre-procressing of numerical variables"
   ]
  },
  {
   "cell_type": "markdown",
   "metadata": {},
   "source": [
    "#### Select numerical independent attributes"
   ]
  },
  {
   "cell_type": "code",
   "execution_count": 79,
   "metadata": {},
   "outputs": [],
   "source": [
    "numerical_attr = data.select_dtypes('int64').columns\n",
    "numerical_df = data[numerical_attr]"
   ]
  },
  {
   "cell_type": "code",
   "execution_count": 80,
   "metadata": {},
   "outputs": [
    {
     "data": {
      "text/html": [
       "<div>\n",
       "<style scoped>\n",
       "    .dataframe tbody tr th:only-of-type {\n",
       "        vertical-align: middle;\n",
       "    }\n",
       "\n",
       "    .dataframe tbody tr th {\n",
       "        vertical-align: top;\n",
       "    }\n",
       "\n",
       "    .dataframe thead th {\n",
       "        text-align: right;\n",
       "    }\n",
       "</style>\n",
       "<table border=\"1\" class=\"dataframe\">\n",
       "  <thead>\n",
       "    <tr style=\"text-align: right;\">\n",
       "      <th></th>\n",
       "      <th>Age</th>\n",
       "      <th>Positive Feedback Count</th>\n",
       "    </tr>\n",
       "  </thead>\n",
       "  <tbody>\n",
       "    <tr>\n",
       "      <th>0</th>\n",
       "      <td>33.0</td>\n",
       "      <td>0.0</td>\n",
       "    </tr>\n",
       "    <tr>\n",
       "      <th>1</th>\n",
       "      <td>34.0</td>\n",
       "      <td>4.0</td>\n",
       "    </tr>\n",
       "    <tr>\n",
       "      <th>2</th>\n",
       "      <td>60.0</td>\n",
       "      <td>0.0</td>\n",
       "    </tr>\n",
       "    <tr>\n",
       "      <th>3</th>\n",
       "      <td>50.0</td>\n",
       "      <td>0.0</td>\n",
       "    </tr>\n",
       "    <tr>\n",
       "      <th>4</th>\n",
       "      <td>47.0</td>\n",
       "      <td>6.0</td>\n",
       "    </tr>\n",
       "  </tbody>\n",
       "</table>\n",
       "</div>"
      ],
      "text/plain": [
       "    Age  Positive Feedback Count\n",
       "0  33.0                      0.0\n",
       "1  34.0                      4.0\n",
       "2  60.0                      0.0\n",
       "3  50.0                      0.0\n",
       "4  47.0                      6.0"
      ]
     },
     "execution_count": 80,
     "metadata": {},
     "output_type": "execute_result"
    }
   ],
   "source": [
    "numerical_df=numerical_df.astype('float')\n",
    "numerical_df = numerical_df.drop(labels=['Clothing ID'],axis=1)\n",
    "numerical_df.head()"
   ]
  },
  {
   "cell_type": "markdown",
   "metadata": {},
   "source": [
    "#### Min Max Scaling"
   ]
  },
  {
   "cell_type": "code",
   "execution_count": 81,
   "metadata": {},
   "outputs": [
    {
     "data": {
      "text/plain": [
       "array([[0.18518519, 0.        ],\n",
       "       [0.19753086, 0.03278689],\n",
       "       [0.51851852, 0.        ],\n",
       "       ...,\n",
       "       [0.16049383, 0.00819672],\n",
       "       [0.12345679, 0.01639344],\n",
       "       [0.41975309, 0.18032787]])"
      ]
     },
     "execution_count": 81,
     "metadata": {},
     "output_type": "execute_result"
    }
   ],
   "source": [
    "Scalar= MinMaxScaler()\n",
    "scaled_attr = Scalar.fit_transform(numerical_df)\n",
    "scaled_attr"
   ]
  },
  {
   "cell_type": "markdown",
   "metadata": {},
   "source": [
    "### Preprocessing of categorical variables"
   ]
  },
  {
   "cell_type": "markdown",
   "metadata": {},
   "source": [
    "#### Select categorical attributes"
   ]
  },
  {
   "cell_type": "code",
   "execution_count": 82,
   "metadata": {},
   "outputs": [
    {
     "data": {
      "text/plain": [
       "Index(['Recommended IND', 'Division Name', 'Department Name', 'Class Name'], dtype='object')"
      ]
     },
     "execution_count": 82,
     "metadata": {},
     "output_type": "execute_result"
    }
   ],
   "source": [
    "categorical_attr = data.select_dtypes('category').columns\n",
    "categorical_attr = categorical_attr[categorical_attr != 'Rating']\n",
    "categorical_attr "
   ]
  },
  {
   "cell_type": "code",
   "execution_count": 83,
   "metadata": {},
   "outputs": [],
   "source": [
    "target_attr = 'Rating'"
   ]
  },
  {
   "cell_type": "code",
   "execution_count": 84,
   "metadata": {},
   "outputs": [
    {
     "data": {
      "text/html": [
       "<div>\n",
       "<style scoped>\n",
       "    .dataframe tbody tr th:only-of-type {\n",
       "        vertical-align: middle;\n",
       "    }\n",
       "\n",
       "    .dataframe tbody tr th {\n",
       "        vertical-align: top;\n",
       "    }\n",
       "\n",
       "    .dataframe thead th {\n",
       "        text-align: right;\n",
       "    }\n",
       "</style>\n",
       "<table border=\"1\" class=\"dataframe\">\n",
       "  <thead>\n",
       "    <tr style=\"text-align: right;\">\n",
       "      <th></th>\n",
       "      <th>Recommended IND</th>\n",
       "      <th>Division Name</th>\n",
       "      <th>Department Name</th>\n",
       "      <th>Class Name</th>\n",
       "    </tr>\n",
       "  </thead>\n",
       "  <tbody>\n",
       "    <tr>\n",
       "      <th>0</th>\n",
       "      <td>1</td>\n",
       "      <td>Initmates</td>\n",
       "      <td>Intimate</td>\n",
       "      <td>Intimates</td>\n",
       "    </tr>\n",
       "    <tr>\n",
       "      <th>1</th>\n",
       "      <td>1</td>\n",
       "      <td>General</td>\n",
       "      <td>Dresses</td>\n",
       "      <td>Dresses</td>\n",
       "    </tr>\n",
       "    <tr>\n",
       "      <th>2</th>\n",
       "      <td>0</td>\n",
       "      <td>General</td>\n",
       "      <td>Dresses</td>\n",
       "      <td>Dresses</td>\n",
       "    </tr>\n",
       "    <tr>\n",
       "      <th>3</th>\n",
       "      <td>1</td>\n",
       "      <td>General Petite</td>\n",
       "      <td>Bottoms</td>\n",
       "      <td>Pants</td>\n",
       "    </tr>\n",
       "    <tr>\n",
       "      <th>4</th>\n",
       "      <td>1</td>\n",
       "      <td>General</td>\n",
       "      <td>Tops</td>\n",
       "      <td>Blouses</td>\n",
       "    </tr>\n",
       "  </tbody>\n",
       "</table>\n",
       "</div>"
      ],
      "text/plain": [
       "  Recommended IND   Division Name Department Name Class Name\n",
       "0               1       Initmates        Intimate  Intimates\n",
       "1               1         General         Dresses    Dresses\n",
       "2               0         General         Dresses    Dresses\n",
       "3               1  General Petite         Bottoms      Pants\n",
       "4               1         General            Tops    Blouses"
      ]
     },
     "execution_count": 84,
     "metadata": {},
     "output_type": "execute_result"
    }
   ],
   "source": [
    "categorical_df=data[categorical_attr]\n",
    "categorical_df.head()"
   ]
  },
  {
   "cell_type": "markdown",
   "metadata": {},
   "source": [
    "#### Convert categorical attributes to numeric"
   ]
  },
  {
   "cell_type": "code",
   "execution_count": 85,
   "metadata": {},
   "outputs": [],
   "source": [
    "cat_dummies=pd.get_dummies(categorical_df,drop_first=True).values"
   ]
  },
  {
   "cell_type": "code",
   "execution_count": 86,
   "metadata": {},
   "outputs": [
    {
     "data": {
      "text/plain": [
       "array([[1, 0, 1, ..., 0, 0, 0],\n",
       "       [1, 0, 0, ..., 0, 0, 0],\n",
       "       [0, 0, 0, ..., 0, 0, 0],\n",
       "       ...,\n",
       "       [0, 1, 0, ..., 0, 0, 0],\n",
       "       [1, 0, 0, ..., 0, 0, 0],\n",
       "       [1, 1, 0, ..., 0, 0, 0]], dtype=uint8)"
      ]
     },
     "execution_count": 86,
     "metadata": {},
     "output_type": "execute_result"
    }
   ],
   "source": [
    "cat_dummies"
   ]
  },
  {
   "cell_type": "code",
   "execution_count": 87,
   "metadata": {},
   "outputs": [
    {
     "data": {
      "text/plain": [
       "(22628, 27)"
      ]
     },
     "execution_count": 87,
     "metadata": {},
     "output_type": "execute_result"
    }
   ],
   "source": [
    "cat_dummies.shape"
   ]
  },
  {
   "cell_type": "markdown",
   "metadata": {},
   "source": [
    "#### Convert target attribute to numeric"
   ]
  },
  {
   "cell_type": "markdown",
   "metadata": {},
   "source": [
    "#### to_categorical(y, num_classes=None)\n",
    "y: class vector to be converted into a matrix\n",
    "        (integers from 0 to num_classes) . "
   ]
  },
  {
   "cell_type": "code",
   "execution_count": 88,
   "metadata": {},
   "outputs": [],
   "source": [
    "data[[target_attr]]=data[[target_attr]]-1"
   ]
  },
  {
   "cell_type": "code",
   "execution_count": 89,
   "metadata": {},
   "outputs": [
    {
     "data": {
      "text/plain": [
       "5"
      ]
     },
     "execution_count": 89,
     "metadata": {},
     "output_type": "execute_result"
    }
   ],
   "source": [
    "no_of_levels= len(np.unique(data[target_attr]))\n",
    "no_of_levels"
   ]
  },
  {
   "cell_type": "code",
   "execution_count": 90,
   "metadata": {},
   "outputs": [],
   "source": [
    "target_dummy= to_categorical(data[target_attr],num_classes=no_of_levels)"
   ]
  },
  {
   "cell_type": "code",
   "execution_count": 91,
   "metadata": {},
   "outputs": [
    {
     "data": {
      "text/plain": [
       "array([[0., 0., 0., 1., 0.],\n",
       "       [0., 0., 0., 0., 1.],\n",
       "       [0., 0., 1., 0., 0.],\n",
       "       ...,\n",
       "       [0., 0., 1., 0., 0.],\n",
       "       [0., 0., 1., 0., 0.],\n",
       "       [0., 0., 0., 0., 1.]], dtype=float32)"
      ]
     },
     "execution_count": 91,
     "metadata": {},
     "output_type": "execute_result"
    }
   ],
   "source": [
    "target_dummy"
   ]
  },
  {
   "cell_type": "code",
   "execution_count": 92,
   "metadata": {},
   "outputs": [
    {
     "data": {
      "text/plain": [
       "(22628, 5)"
      ]
     },
     "execution_count": 92,
     "metadata": {},
     "output_type": "execute_result"
    }
   ],
   "source": [
    "target_dummy.shape"
   ]
  },
  {
   "cell_type": "markdown",
   "metadata": {},
   "source": [
    "### Pre-Processing of Text"
   ]
  },
  {
   "cell_type": "markdown",
   "metadata": {},
   "source": [
    "#### Initialize the variables"
   ]
  },
  {
   "cell_type": "markdown",
   "metadata": {},
   "source": [
    "#### Get the length of the text having maximum number of occurances"
   ]
  },
  {
   "cell_type": "markdown",
   "metadata": {},
   "source": [
    "#### Get the unique count of text length "
   ]
  },
  {
   "cell_type": "code",
   "execution_count": 93,
   "metadata": {},
   "outputs": [],
   "source": [
    "unique_elements, counts_elements = np.unique(data[string].apply(len),return_counts=True)"
   ]
  },
  {
   "cell_type": "code",
   "execution_count": 94,
   "metadata": {},
   "outputs": [
    {
     "data": {
      "text/plain": [
       "array([  9,  11,  12,  13,  14,  15,  16,  17,  18,  20,  21,  22,  24,\n",
       "        25,  26,  27,  28,  29,  30,  31,  32,  33,  34,  35,  36,  37,\n",
       "        38,  39,  40,  41,  42,  43,  44,  45,  46,  47,  48,  49,  50,\n",
       "        51,  52,  53,  54,  55,  56,  57,  58,  59,  60,  61,  62,  63,\n",
       "        64,  65,  66,  67,  68,  69,  70,  71,  72,  73,  74,  75,  76,\n",
       "        77,  78,  79,  80,  81,  82,  83,  84,  85,  86,  87,  88,  89,\n",
       "        90,  91,  92,  93,  94,  95,  96,  97,  98,  99, 100, 101, 102,\n",
       "       103, 104, 105, 106, 107, 108, 109, 110, 111, 112, 113, 114, 115,\n",
       "       116, 117, 118, 119, 120, 121, 122, 123, 124, 125, 126, 127, 128,\n",
       "       129, 130, 131, 132, 133, 134, 135, 136, 137, 138, 139, 140, 141,\n",
       "       142, 143, 144, 145, 146, 147, 148, 149, 150, 151, 152, 153, 154,\n",
       "       155, 156, 157, 158, 159, 160, 161, 162, 163, 164, 165, 166, 167,\n",
       "       168, 169, 170, 171, 172, 173, 174, 175, 176, 177, 178, 179, 180,\n",
       "       181, 182, 183, 184, 185, 186, 187, 188, 189, 190, 191, 192, 193,\n",
       "       194, 195, 196, 197, 198, 199, 200, 201, 202, 203, 204, 205, 206,\n",
       "       207, 208, 209, 210, 211, 212, 213, 214, 215, 216, 217, 218, 219,\n",
       "       220, 221, 222, 223, 224, 225, 226, 227, 228, 229, 230, 231, 232,\n",
       "       233, 234, 235, 236, 237, 238, 239, 240, 241, 242, 243, 244, 245,\n",
       "       246, 247, 248, 249, 250, 251, 252, 253, 254, 255, 256, 257, 258,\n",
       "       259, 260, 261, 262, 263, 264, 265, 266, 267, 268, 269, 270, 271,\n",
       "       272, 273, 274, 275, 276, 277, 278, 279, 280, 281, 282, 283, 284,\n",
       "       285, 286, 287, 288, 289, 290, 291, 292, 293, 294, 295, 296, 297,\n",
       "       298, 299, 300, 301, 302, 303, 304, 305, 306, 307, 308, 309, 310,\n",
       "       311, 312, 313, 314, 315, 316, 317, 318, 319, 320, 321, 322, 323,\n",
       "       324, 325, 326, 327, 328, 329, 330, 331, 332, 333, 334, 335, 336,\n",
       "       337, 338, 339, 340, 341, 342, 343, 344, 345, 346, 347, 348, 349,\n",
       "       350, 351, 352, 353, 354, 355, 356, 357, 358, 359, 360, 361, 362,\n",
       "       363, 364, 365, 366, 367, 368, 369, 370, 371, 372, 373, 374, 375,\n",
       "       376, 377, 378, 379, 380, 381, 382, 383, 384, 385, 386, 387, 388,\n",
       "       389, 390, 391, 392, 393, 394, 395, 396, 397, 398, 399, 400, 401,\n",
       "       402, 403, 404, 405, 406, 407, 408, 409, 410, 411, 412, 413, 414,\n",
       "       415, 416, 417, 418, 419, 420, 421, 422, 423, 424, 425, 426, 427,\n",
       "       428, 429, 430, 431, 432, 433, 434, 435, 436, 437, 438, 439, 440,\n",
       "       441, 442, 443, 444, 445, 446, 447, 448, 449, 450, 451, 452, 453,\n",
       "       454, 455, 456, 457, 458, 459, 460, 461, 462, 463, 464, 465, 466,\n",
       "       467, 468, 469, 470, 471, 472, 473, 474, 475, 476, 477, 478, 479,\n",
       "       480, 481, 482, 483, 484, 485, 486, 487, 488, 489, 490, 491, 492,\n",
       "       493, 494, 495, 496, 497, 498, 499, 500, 501, 502, 503, 504, 505,\n",
       "       506, 507, 508])"
      ]
     },
     "execution_count": 94,
     "metadata": {},
     "output_type": "execute_result"
    }
   ],
   "source": [
    "unique_elements"
   ]
  },
  {
   "cell_type": "code",
   "execution_count": 95,
   "metadata": {},
   "outputs": [
    {
     "data": {
      "text/plain": [
       "array([   1,    1,    2,    2,    2,    1,    2,    3,    2,    2,    2,\n",
       "          1,    5,    5,    3,    4,    5,    2,    4,    5,    2,    6,\n",
       "          1,    4,    4,    6,    5,    7,    4,    9,    4,    5,    6,\n",
       "          5,    8,    6,    5,    6,   30,   29,   24,   24,   32,   23,\n",
       "         24,   20,   26,   20,   21,   23,   23,   22,   28,   23,   35,\n",
       "         32,   33,   32,   36,   34,   38,   42,   25,   26,   36,   27,\n",
       "         26,   33,   33,   27,   38,   36,   39,   26,   33,   38,   39,\n",
       "         32,   44,   37,   34,   36,   42,   35,   33,   33,   41,   32,\n",
       "         46,   48,   35,   40,   35,   32,   38,   34,   40,   35,   34,\n",
       "         50,   36,   51,   27,   41,   46,   36,   38,   36,   45,   37,\n",
       "         45,   45,   46,   46,   49,   37,   39,   46,   41,   49,   56,\n",
       "         48,   46,   42,   42,   50,   52,   51,   49,   46,   42,   53,\n",
       "         41,   42,   45,   43,   39,   43,   56,   42,   51,   43,   36,\n",
       "         64,   35,   47,   66,   38,   46,   53,   50,   44,   43,   66,\n",
       "         68,   46,   46,   55,   51,   46,   55,   48,   39,   48,   40,\n",
       "         59,   47,   52,   49,   51,   55,   40,   44,   67,   45,   60,\n",
       "         46,   55,   53,   46,   52,   45,   46,   44,   43,   46,   45,\n",
       "         62,   55,   56,   55,   51,   53,   46,   52,   48,   69,   44,\n",
       "         49,   65,   55,   67,   56,   37,   56,   51,   55,   46,   66,\n",
       "         48,   55,   48,   46,   63,   47,   55,   55,   53,   46,   52,\n",
       "         42,   50,   34,   52,   46,   49,   35,   68,   44,   52,   42,\n",
       "         50,   48,   41,   47,   43,   46,   52,   40,   52,   52,   45,\n",
       "         58,   42,   50,   49,   52,   43,   41,   57,   43,   59,   54,\n",
       "         44,   55,   49,   56,   62,   56,   45,   50,   40,   57,   40,\n",
       "         49,   41,   56,   41,   37,   38,   43,   47,   54,   47,   45,\n",
       "         52,   48,   39,   53,   40,   44,   50,   33,   49,   39,   51,\n",
       "         49,   35,   41,   49,   52,   50,   35,   37,   51,   50,   41,\n",
       "         60,   43,   42,   46,   35,   48,   40,   46,   43,   52,   25,\n",
       "         48,   49,   30,   40,   41,   37,   36,   50,   42,   44,   45,\n",
       "         43,   37,   44,   53,   41,   41,   41,   33,   37,   35,   36,\n",
       "         37,   51,   51,   33,   43,   47,   41,   47,   50,   30,   34,\n",
       "         41,   41,   33,   46,   44,   32,   27,   40,   41,   35,   46,\n",
       "         43,   35,   49,   37,   42,   34,   44,   37,   36,   35,   45,\n",
       "         26,   34,   30,   51,   38,   40,   33,   35,   39,   33,   39,\n",
       "         34,   29,   31,   34,   26,   35,   26,   29,   39,   40,   34,\n",
       "         25,   37,   39,   34,   36,   38,   34,   35,   41,   23,   33,\n",
       "         39,   31,   39,   31,   29,   25,   21,   29,   30,   34,   42,\n",
       "         24,   27,   23,   30,   21,   33,   33,   34,   33,   30,   34,\n",
       "         19,   21,   24,   34,   27,   24,   30,   38,   33,   32,   32,\n",
       "         25,   28,   30,   30,   38,   23,   37,   36,   26,   28,   33,\n",
       "         20,   19,   33,   33,   29,   30,   16,   23,   24,   21,   20,\n",
       "         19,   28,   37,   21,   25,   26,   28,   28,   31,   25,   23,\n",
       "         27,   29,   23,   19,   28,   25,   38,   36,   25,   21,   22,\n",
       "         20,   25,   29,   26,   27,   22,   17,   35,   18,   56,  138,\n",
       "         40,   39,   22,  807, 3061,  109,  448,   10,   34,    1,    2,\n",
       "          1,    2])"
      ]
     },
     "execution_count": 95,
     "metadata": {},
     "output_type": "execute_result"
    }
   ],
   "source": [
    "counts_elements"
   ]
  },
  {
   "cell_type": "markdown",
   "metadata": {},
   "source": [
    "#### We observe that the highest value of count is 3061 and the corresponding text length is 500 , hence we are choosing 500 as the maximum text length "
   ]
  },
  {
   "cell_type": "code",
   "execution_count": 96,
   "metadata": {},
   "outputs": [
    {
     "data": {
      "text/plain": [
       "500"
      ]
     },
     "execution_count": 96,
     "metadata": {},
     "output_type": "execute_result"
    }
   ],
   "source": [
    "max_text_count_length = list(counts_elements).index(max(counts_elements))\n",
    "MAX_SEQUENCE_LENGTH = unique_elements[max_text_count_length]\n",
    "MAX_SEQUENCE_LENGTH"
   ]
  },
  {
   "cell_type": "markdown",
   "metadata": {},
   "source": [
    "#### Tokenize the words"
   ]
  },
  {
   "cell_type": "code",
   "execution_count": 97,
   "metadata": {},
   "outputs": [
    {
     "name": "stdout",
     "output_type": "stream",
     "text": [
      "Found 14846 unique tokens.\n"
     ]
    }
   ],
   "source": [
    "tokenizer = Tokenizer()\n",
    "tokenizer.fit_on_texts(data[string])\n",
    "sequences = tokenizer.texts_to_sequences(data[string])\n",
    "\n",
    "word_index = tokenizer.word_index\n",
    "print('Found %s unique tokens.' % len(word_index))\n",
    "NUM_WORDS = len(word_index)+1\n",
    "text_seq = pad_sequences(sequences, maxlen=MAX_SEQUENCE_LENGTH)"
   ]
  },
  {
   "cell_type": "markdown",
   "metadata": {},
   "source": [
    "###### Load the GloVe word embedding file into memory as a dictionary of word to embedding array.\n",
    "\n",
    "__Note__: Filter the embedding for the unique words in the training data."
   ]
  },
  {
   "cell_type": "code",
   "execution_count": 98,
   "metadata": {},
   "outputs": [
    {
     "name": "stdout",
     "output_type": "stream",
     "text": [
      "Loaded 400000 word vectors.\n"
     ]
    }
   ],
   "source": [
    "# load the whole embedding into memory\n",
    "embeddings_index = dict()\n",
    "f = open('glove.6B.50d.txt')\n",
    "for line in f:\n",
    "    values = line.split()\n",
    "    word = values[0]\n",
    "    coefs = np.asarray(values[1:], dtype='float32')\n",
    "    embeddings_index[word] = coefs\n",
    "f.close()\n",
    "print('Loaded %s word vectors.' % len(embeddings_index))"
   ]
  },
  {
   "cell_type": "markdown",
   "metadata": {},
   "source": [
    "#### Next, create a matrix of one embedding for each word in the training dataset. We can do that by enumerating all unique words in the Tokenizer.word_index and locating the embedding weight vector from the loaded GloVe embedding.\n",
    "\n",
    "#### The result is a matrix of weights only for words we will see during training."
   ]
  },
  {
   "cell_type": "markdown",
   "metadata": {},
   "source": [
    "#### Also count the number of words not present in the glove to decide whether we need to train or not"
   ]
  },
  {
   "cell_type": "code",
   "execution_count": 99,
   "metadata": {},
   "outputs": [],
   "source": [
    "# create a weight matrix for words in training docs\n",
    "embedding_matrix = np.zeros((NUM_WORDS,50))\n",
    "word_not_in_glove_count = 0\n",
    "word_not_in_glove =[]\n",
    "for word, i in tokenizer.word_index.items():\n",
    "    embedding_vector = embeddings_index.get(word)\n",
    "    if embedding_vector is not None:\n",
    "        embedding_matrix[i] = embedding_vector\n",
    "    else:\n",
    "        word_not_in_glove.append(word)\n",
    "        word_not_in_glove_count = word_not_in_glove_count+1"
   ]
  },
  {
   "cell_type": "code",
   "execution_count": 100,
   "metadata": {},
   "outputs": [
    {
     "name": "stdout",
     "output_type": "stream",
     "text": [
      "[[ 0.          0.          0.         ...  0.          0.\n",
      "   0.        ]\n",
      " [ 0.41800001  0.24968    -0.41242    ... -0.18411    -0.11514\n",
      "  -0.78580999]\n",
      " [ 0.11891     0.15255    -0.082073   ... -0.57511997 -0.26671001\n",
      "   0.92120999]\n",
      " ...\n",
      " [ 0.          0.          0.         ...  0.          0.\n",
      "   0.        ]\n",
      " [-1.11530006 -0.92496002  0.45280999 ... -0.11177    -0.20133001\n",
      "  -1.06910002]\n",
      " [-1.72899997  0.91578001  0.39234    ... -0.43144    -1.00250006\n",
      "  -0.83530998]]\n"
     ]
    }
   ],
   "source": [
    "print(embedding_matrix)"
   ]
  },
  {
   "cell_type": "code",
   "execution_count": 101,
   "metadata": {},
   "outputs": [
    {
     "name": "stdout",
     "output_type": "stream",
     "text": [
      "[\"it's\", \"i'm\", '\\r', \"don't\", \"didn't\", \"doesn't\", \"can't\", \"i've\", \"wasn't\", \"5'4\", \"i'd\", \"isn't\", \"5'3\", \"couldn't\", \"that's\", \"5'5\", \"5'2\", \"i'll\", 'xxs', \"5'7\", \"5'6\", \"you're\", \"5'8\", \"wouldn't\", \"5'\", \"they're\", 'pilcro', \"won't\", \"5'1\", \"5'9\", \"there's\", \"haven't\", '34d', \"5'10\", \"aren't\", 'xsp', '36d', '0p', \"would've\", \"you'll\", '34dd', '36dd', 'xxsp', '135lbs', '32dd', \"weren't\", '00p', \"retailer's\", '120lbs', \"it'll\", '30dd', '130lbs', \"you'd\", 'xsmall', 'tshirt', '115lbs', \"5'11\", '125lbs', 'skinnies', '140lbs', \"they'd\", 'pxs', \"5'0\", \"could've\", \"hadn't\", \"model's\", 'armhole', \"shouldn't\", 'jsut', '145lbs', \"what's\", \"it'd\", '110lbs', \"they'll\", 'cartonnier', \"70's\", '34ddd', \"she's\", \"5'4''\", \"should've\", \"one's\", \"let's\", \"6'\", '34f', '36ddd', 'deletta', 'heathered', 'bralette', 'skort', '128lbs', \"you've\", \"5'8''\", \"they've\", \"here's\", 'xspetite', \"dind't\", 'jeggings', 'colorway', 'pilcros', \"year's\", '150lbs', \"we'll\", 'pxxs', \"60's\", '34g', 'stevies', 'regualr', \"mother's\", '100lbs', 'antro', \"woman's\", '34aa', '32ddd', \"5'5''\", '123lbs', 'wld', \"50's\", 'antho', 'slub', 'marled', \"hasn't\", \"husband's\", 'elevenses', 'flowey', \"daughter's\", '155lbs', 'snugger', 'blousey', '30d', '130lb', 'skinnys', 'poofed', \"reviewer's\", 'buttondown', '120lb', \"friend's\", '105lbs', 'moulinette', \"5'6''\", '160lbs', \"5'7'\", '5ft2in', \"5'5'\", 'racerback', 'pointelle', \"we're\", '32g', 'seafolly', 'backorder', 'ahve', \"5'3'\", 'pilco', \"4'\", \"40's\", 'flatering', 'bagginess', '160lb', 'htey', \"4'11\", \"5'2''\", \"5'7''\", '138lbs', '118lbs', \"80's\", 'antrho', 'falttering', \"who's\", '127lbs', \"women's\", \"30's\", '109lbs', 'boxiness', \"5'1''\", '117lbs', 'camis', 'whiskering', 'rouching', '140lb', 'colros', \"pj's\", '107lbs', 'petitie', 'siz', 'stretchiness', 'wearings', 'backordered', \"stevie's\", '112lbs', 'flowiness', '125lb', '36g', \"dress's\", 'flowly', '37ish', \"men's\", \"child's\", 'imho', 'reccomend', '170lbs', \"anyone's\", '103lbs', 'appliquã©', \"sister's\", '102lbs', \"someone's\", 'swtr', \"5'6'\", 'soooooo', '113lbs', \"valentine's\", '38d', 'bodycon', 'midweight', 'sweatercoat', 'comf', \"fit's\", \"brother's\", 'me\\r', \"3'\", \"5'9'\", 'poofing', \"'4\", 'sleev', '135lb', \"5'3''\", \"maeve's\", 'waaaaay', \"fabric's\", 'torsoed', 'lenght', 'htis', '0petite', \"dress'\", '32h', '145lb', 'versitile', \"'red'\", \"7'\", 'ombrã©', 'favs', 'htem', 'cowlneck', \"5'9''\", \"t's\", 'tenty', 'waaay', 'slenderizing', 'supima', 'unattractively', '95lbs', 'overdress', \"sweater's\", 'boatneck', 'bralettes', \"2''\", \"season's\", \"5'0''\", 'wayyy', 'mockneck', 'lyocell', 'dresss', \"charlie's\", \"grandma's\", 'comfiest', \"maxi's\", '38dd', '116lbs', \"it'\", 'underslip', \"levi's\", \"mom's\", 'xxsmall', \"pilcro's\", 'sandles', '124lbs', \"xl's\", 'handwash', 'sotre', \"shirt's\", \"everyone's\", 'thickish', 'derriã¨re', \"others'\", '150lb', 'colorways', 'leggins', 'uncuff', 'stretchier', 'sacklike', 'retailerpolgie', \"5'3ish\", \"top's\", \"manufacturer's\", \"'s'\", \"ag's\", 'alittle', 'stiching', 'appliquã©s', \"son's\", 'skintone', \"reviewers'\", \"5''\", 'eptite', 'umph', \"cami's\", \"'swing'\", '129lbs', 'middl', \"today's\", '144lb', '108lbs', 'camisol', 'smaill', 'denimy', 'ordere', \"skinny's\", '10lbs', 'throu', \"32d's\", 'toosh', '32e', \"5'11''\", \"4''\", '30f', 'evanthe', 'volumous', 'delicates', \"2'\", '118lb', 'hahaha', \"1'\", 'small\\r', 'sandels', '0r', 'becau', 'pricepoint', 'scratchiness', \"1940's\", 'culotte', '175lbs', 'fabr', 'twirly', '146lbs', 'colr', \"people's\", 'colorfast', '128lb', 'athleisure', 'peite', 'scratchier', 'appliquã©d', 'pilcrow', \"5'10''\", 'cupro', '165lbs', \"girl's\", 'dryel', '110lb', 'uppe', 'styl', 'embroiding', 'wayyyy', 'amterial', '36h', '107lb', 'bday', 'defin', 'recommen', \"5'8'\", 'dresse', \"8's\", \"5'4'\", 'cheekier', 'waaaay', 'slubby', 'shooties', 'colorblock', 'beautifu', '28dd', 'summ', 'snugness', 'shirring', \"1970's\", 'detial', 'stets', \"don'\", 'swea', 'thinnish', 'paquerette', \"6'2\", '127lb', \"28's\", \"jean's\", '148lbs', '142lbs', 'unseamed', 'bootcut', 'blousing', 'balloony', \"27's\", \"money's\", \"'m'\", 'anth', 'absolutley', 'bloused', 'carissima', 'prett', 'â\\xa0â\\xa0i', 'underneat', \"31's\", 'grea', 'looooove', '140b', 'slouchier', 'prefectly', 'ejans', 'unsnapped', \"3''\", 'plasticy', 'definetly', \"that'll\", 'toget', 'puffier', 'material\\r', 'flirtiness', 'fiancã©', 'foldover', \"to'\", 'sooooooo', \"5''6\", '114lbs', \"26's\", 'mazing', 'compliements', 'loooove', \"xs's\", '136lbs', 'flattrering', \"lot's\", \"1920's\", 'skir', 'littl', 'lyocel', 'liekd', 'xxxl', 'clinged', 'becaus', 'to\\r', \"we've\", 'feminie', 'tylho', 'neede', '20lbs', \"29'\", 'the\\r', 'recd', 'lnever', 'retu', '34dddd', '122lbs', 'druzy', 'batwings', 'fairisle', 'great\\r', \"5'1'\", 'loompa', '134lbs', \"din't\", 'kne', \"5'2'\", 'metalic', \"day's\", 'ligher', 'chrolox', 'referance', \"did't\", 'colors\\r', \"t'shirt\", '36dds', \"collector's\", 'purc', 'reweave', 'burgandy', 'absolutly', \"'t\", 'silouette', 'purcha', 'linin', '5lbs', \"la's\", '155lb', 'produ', 'top\\r', 'crepey', 'eptites', 'lwait', \"'red\", 'regularl', '36e', 'hwoever', 'mentioend', 'otk', 'lightwei', 'quali', 'peice', '115ish', 'tyhlo', 'onsie', 'offwhite', 'colorblocked', 'washability', '6petite', 'preggo', 'weght', 'flowier', \"children's\", 'hemstitch', 'little\\r', \"rec'd\", 'highwaisted', 'henleys', \"law's\", 'corodorys', 'jeera', \"we'd\", \"niece's\", '111lbs', 'retur', 'definitly', \"jacket's\", \"y'all\", 'upsize', 'comfotable', \"v's\", 'breasting', 'looove', '11inches', 'i\\r', \"winter's\", 'spetite', 'complected', \"like'\", 'looooooove', 'eprson', 'completel', 'altho', 'unfort', \"i'\", 'waaaaaay', \"ann's\", 'gauzey', \"5''3\", 'comfrotable', 'stretc', 'plackets', 'versat', \"6''\", '133lbs', \"to's\", 'recomme', 'staticky', 'bottons', 'unfortunatly', 'unshapely', 'clingier', 'undernea', 'juuuust', 'quality\\r', 'llonger', 'perfe', 'tshirts', \"4'10\", \"20's\", 'with\\r', \"10's\", 'pintucks', 'linty', 'pilly', '106lbs', 'bodytype', 'repeller', \"'v'\", '36aa', '29p', 'descri', \"body's\", 'especia', 'reall', 'pilcos', 'perhap', 'disappoin', \"coh's\", 'popback', 'rediculously', \"she'd\", 'sizi', 'petities', 'colorwise', 'sexyness', 'risquã©', 'midrise', 'mateiral', '95lb', \"5'10'\", 'wideness', 'sofisticated', 'really\\r', 'it\\r', \"nephew's\", 'howeve', 'hypen', \"brand's\", 'cehst', '2petite', 'unflatering', 'preggers', 'petitte', 'slig', \"might've\", 'uncuffed', 'taupey', 'sleevless', \"'tent'\", 'polkadots', 'defini', \"else's\", 'differen', '38in', \"'runs\", \"29's\", 'forwar', \"it''s\", 'unique\\r', 'expe', \"6'0\", 'nicel', 'legnth', 'xlarge', 'hink', 'pictur', \"4's\", 'huuuge', 'recomend', 'aize', \"can'\", 'regulat', \"who've\", 'flatte', \"out'\", 'cardis', \"skirt's\", \"up'\", \"there'd\", 'marroon', '116lb', 'retailerpologist', 'jcrew', \"pant's\", 'hipline', 'gianormous', '27r', 'greige', \"that'd\", 'taylored', 'shld', 'dryclean', 'poofiness', 'boyshort', 'sheerest', \"wasn'\", \"pullover's\", 'bunchiness', 'lvoe', 'm\\r', 'pintuck', 'tennies', 'riverdeck', 'chunkiness', 'apprx', 'flatttering', 'biggish', 'inseams', 'thsi', 'petties', 'boyleg', \"joe's\", 'unco', \"material's\", \"artist's\", 'wiast', '132lbs', 'exmaple', 'bluishgreen', 'crosswrap', 'darkler', 'mathced', 'everythiing', 'msallet', 'jkeep', 'matvehd', 'compaint', 'ldecide', 'reveiws', 'grrrrrrrrrrr', 'layerng', 'goodhyouman', 'chubbiness', 'malfun', \"1''\", 'daughte', 'ã¼ber', 'camsiole', 'campole', 'neckli', 'sharkbite', 'owend', \"'stressed'\", 'entirel', 'contralaterally', \"ii'm\", 'firned', 'peittes', \"ap's\", 'apetite', \"'faux\", \"cardi'\", 'slvs', 'maternityish', 'cheapish', \"'curves'\", 'unfrotuantely', 'shirty', 'flouncier', \"'smoky'\", 'pilcr', 'stitchwork', 'hsould', 'nottom', 'gegt', 'inchess', 'waiat', 'musclea', 'plaform', 'heeks', 'gambl', 'alst', 'smae', 'ddresses', 'aprts', 'loooooong', '27inches', 'rceived', 'reallly', 'padderns', 'work\\r', 'petite\\r', 'fulle', \"'layered\", \"top'\", 'necklne', 'asscoaites', '34ds', \"god's\", 'anoth', 'shirter', 'expens', '123lbssize', \"purchaser's\", 'camoflage', \"'slim'\", 'schlumpy', 'mediumd', 'othewise', \"1950's\", 'crinolined', 'normall', \"'go\", 'wrin', 'disappoitned', \"anthto's\", 'from\\r', 'lokka', 'pirchasing', 'iliked', \"red'\", \"'nubby'\", \"'i\", \"color'\", 'aholed', 'person\\r', 'compl', 'mildish', 'ecept', 'shiop', \"won's\", 'helpfu', 'drearriest', '5ft3in', '36dddd', \"where'd\", 'iand', 'garmets', 'often\\r', 'stright', \"din'dt\", 'wrikling', 'wwear', 'althleisure', 'colorfastness', 'recei', 'lightweat', 'wiastband', \"idea's\", 'wante', 'abolutely', '3xs', 'incalled', \"i'am\", '165lb', 'throug', \"barista's\", 'realllly', 'trhrow', 'eregular', 'unnoticable', 'ooopss', \"aaaaandidon'twanttopayforshipping\", 'contributer', 'desideria', \"'tunic\", 'pashminas', 'resewn', 'allllllmost', 'cutsie', \"am5'4'\", 'transistional', '8yo', 'hypos', 'otherwsie', 'mifnight', 'laways', 'matl', 'jearns', 'finially', 'besid', 'sutble', \"father's\", 'conside', 'favulous', 'jewlery', 'sateens', 'versital', 'frabic', 'beauti', 'fuzzes', \"it'a\", \"'fluffy'\", '30lbs', \"5'2'm\", 'xspwas', \"'almost'\", \"'yes'\", 'im5', 'minneapol', 'simpleness', \"'dry\", \"only'\", 'eaisly', 'elastisized', 'aleardy', 'godets', 'florascura', 'boobed', 'appopriate', 'outsi', 'sueded', 'polyestery', 'tinselly', 'poufing', 'embroarding', 'iordered', 'rregualr', 'deciced', 'netural', 'lavaialble', 'acutually', 'comfie', 'alerations', 'talls', \"girlfriends'\", 'decen', 'winth', \"jammie's\", 'aaaahmazing', 'sohpisticated', 'loungin', 'plum\\r', 'weara', \"sevigny's\", 'tayloring', \"'wings'\", 'length\\r', 'boucles', \"'cotton'\", \"'p\", 'tmie', 'isthe', 'lfit', \"m'l\", 'gorgeus', \"tiny's\", 'perfec', 'pulles', 'syle', 'restocks', \"cant'\", 'hange', 'shortwaisted', 'print\\r', \"kid's\", 'digan', \"'cos\", 'msitake', 'sweeater', 'yummiest', 'reseam', 'pefect', 'amking', '3rds', 'bunchee', 'shapelier', \"'larger'\", \"building's\", 'toplayer', 'otherw', \"pantie's\", 'humd', 'psuedo', 'anthto', '34e', 'defectiv', 'asummig', 'espeically', \"fisher's\", 'priviledge', \"back's\", 'sz4', 'impecable', \"years'\", 'plcro', \"voila'\", 'gorgeous\\r', 'else\\r', \"'comfort\", \"zone'\", \"6's\", 'ummmmm', '38inch', \"'off\", \"shoulder'\", 'balooned', 'knakis', 'bellowy', 'sinch', 'iike', 'thinki', 'veyr', '4115', '30ss', \"denim'\", 'attent', 'imay', 'instuctions', 'dryable', 'nonsolid', 'saggier', 'youve', 'cons\\r', 'seethrough', 'necklac', 'exci', 'my3', 'round\\r', 'clevage', 'easil', '116bs', \"dog's\", 'tightener', \"'green'\", 'hwoevcer', 'for\\r', 'vintagey', \"25''\", 'unuseable', 'refernce', 'wrappi', 'movability', 'widelegs', 'peplm', 'beautiful\\r', '115llbs', 'fuz', 'triue', 'oredered', 'embroi', \"doe'n'tt\", 'htough', 'greay', 'lcan', \"hyphen's\", 'henly', 'detal', 'dissapoint', 'sactuary', 'reutn', 'withou', 'compareed', '144lbs', 'ordred', 'winnrer', 'dressey', 'waiste', 'elongatesy', 'layes', 'jeaens', \"'great\", 'dl1961s', 'thighed', 'strappiness', 'isalmsot', 'zipepr', 'lightwash', 'shyle', 'negativ', 'xsm', 'realllllly', '126lbs', 'bootees', 'thylo', \"he's\", \"'perfect'\", 'pictured\\r', 'down\\r', 'michigans', 'overywhelming', \"'peach'\", 'incase', 'chamomix', \"ii've\", 'ulitimately', 'pric', 'buttt', 'ltitle', 'peite0', 'fluffiest', 'mediately', 'tbose', 'colorblocking', \"seinfeld's\", \"orange'\", \"'drape'\", 'coored', 'petittes', 'reoommend', 'lovethis', 'balc', 'legginss', 'sublte', 'noyte', \"'sugary'\", \"'pop\", \"'poor\", \"boy'\", \"stone's\", 'regualar', 'addtl', '125ibs', 'materal', 'palmarosa', 'litght', \"'90's\", 'goodone', 'mjuch', 'twinsies', 'oversharing', '30gg', \"'go'\", 'loveeeeeeee', 'packable', 'howev', 'comforta', 'purcahse', 'striked', \"'nightgown'\", 'contri', 'impr', \"pilcro'\", 'perferred', 'brainier', 'blingy', 'explosing', 'f\\r', 'muscley', 'geeze', 'mortif', 'inkish', '115lb', \"'dear\", \"everywhere'\", \"nobody's\", 'only\\r', \"'peeks'\", 'sandscape', 'difficu', 'clesrly', '9between', 'versitality', \"patrick's\", 'meleri', 'itnended', 'aame', 'apttern', 'herls', 'nuce', \"'timeless'\", '4petite', 'couldve', 'buttondowns', 'sjut', 'braod', 'deceided', 'seriosu', 'purcahses', 'wiill', '183lbs', \"wheatley's\", 'area\\r', 'suuuuper', 'enamor', \"isn'\", 'looovvveee', 'liittle', \"6'3\", 'verstaile', 'longwaisted', \"neckline's\", 'boobage', 'closu', 'sprea', 'armscye', \"36dd's\", 'lurve', 'espradilles', 'review\\r', 'rusn', 'lke', 'pricely', \"swimmer's\", '143lbs', \"store's\", 'appropr', 'flatforms', 'workw', '134lb', 'chicness', 'theblack', 'mave', 'flattering1', 'reallllly', \"driver's\", 'pbly', 'nbeed', 'sweather', 'stretchey', \"rosemary's\", 'approriate', 'reviwes', '103lb', \"tee's\", 'because\\r', 'fun\\r', 'sooooooooooooooo', 'oversizing', 'goldilicks', 'aroun', '36j', 'xxxs', \"sparrow's\", \"'fall'\", 'sungarden', 'dr4ess', '42dd', \"'cut'\", \"'tattered\", \"'cuts\", 'choise', 'uniquenesses', 'relazation', 'restretched', 'modei', 'substancial', 'tirst', 'msut', 'wrng', \"pomona's\", '130pounds', 'loooks', 'cinderalla', \"preggo's\", 'measur', \"i'ts\", 'blowsey', 'wintergreens', \"'long\", \"heavy'\", 'loosly', 'btoh', 'vanit', \"'jeans'\", '136lb', 'loook', 'camre', 'beuatiful', \"i'm\\r\", 'fit\\r', 'is\\r', 'clipdot', 'aaaaannnnnnd', 'southwesternish', '112lb', 'acceptabl', 'jns', 'comfortab', 'chubneck', 'pattten', 'saldly', \"'pink'\", \"'fur'\", 'accesso', 'shmata', \"'petite'\", \"'right'\", \"'sweater\", 'rpetty', 'grapeish', 'lysee', \"hei's\", 'witho', 'sugge', 'retailerpolgy', 'problemo', 'hadent', \"antropologie's\", 'hlding', 'flowinng', '5ft4', 'someon', 'instagrams', \"one'\", 'comfrotbale', 'alining', 'petie', 'not\\r', 'floofs', \"9'\", 'stonewashing', 'frest', 'calter', 'thoug', \"blouse's\", 'coffe', \"6'1\", \"combo's\", 'regardi', 'thinkness', '35ab', 'droppy', 'wayup', 'non0muscular', 'unvariating', 'weddi', 'anthopology', 'deshn', 'size\\r', 'biggy', \"'details'\", 'but\\r', 'cutewith', 'launderings', 'maaji', 'afterwork', \"kondo's\", 'cahnce', 'howeverm', 'tassles', 'oood', 'versitle', 'wrinkel', 'ridic', 'nydj', 'unfini', 'poofier', '38ish', '0dd', 'tranforms', 'nesrly', 'neckhole', \"individual's\", 'sidezip', '140ish', 'gypsie', \"momma's\", '0in', 'expec', \"mothers'\", '11in', 'up1it', 'swim\\r', 'unmodest', \"'supposed\", 'addit', \"24''\", 'waify', 'materical', 'complection', 'gourgeous', 'unsewn', 'oetite', 'brownettes', 'suuuuuper', 'qualit', 'leifsdottir', 'behin', 'tassled', 'lign', 'reviewwers', 'unavail', 'poochy', 'smar', 'cutwork', 'anyt', 'staticy', 'retailerplpogie', \"4'9\", 'patchworked', 'flattereing', 'turqouise', 'phisique', 'volumptuous', 'knee0', 'flirtier', '40something', \"90's\", '117bl', 'antheropologie', 'etiher', 'loooong', 'sillouhette', 'exampl', '107pound', 'sctrachy', 'dropwaist', \"thought'd\", 'offlate', 'constr', 'rebuy', 'freepeople', 'eliding', 'loun', \"'sheds'\", 'juuuuussst', 'huuuuggge', 'flawy', 'ldecided', 'seemd', 'detaisl', 'unatural', 'sheerer', 'admirin', 'disppaointed', 'whte', 'supercute', 'lengt', \"'glide'\", \"'easy'\", 'intexas', 'ahtro', '130ibs', 'spacedye', 'buggier', 'calsual', 'shiryt', \"'short'\", 'unrepairable', \"'delicateness'\", \"kimono's\", 'purcahsed', 'pregant', \"wedge's\", 'unfortunetly', 'depictes', 'unsee', 'lb\\r', 'sizingwise', 'dioes', '180lbs', 'embrodering', 'quibb', 'syllish', 'somethig', 'broen', 'colde', \"'warm\", \"pullover'\", 'drappiness', 'nubbly', 'agai', 'sympath', 'catchc', 'the10', 'don\\r', 'up\\r', 'color\\r', 'fabric\\r', 'much\\r', \"pocket's\", 'zippie', \"kind've\", \"'70's\", 'imwas', 'imput', \"'i'm\", 'embrodiery', \"'shorts'\", 'lable', 'flipflops', 'awakward', \"there're\", 'intracately', 'stitchin', 'slightlyyyy', \"'in\", \"person'\", \"'nice'\", '30in', \"petite's\", 'overa', 'reccomended', 'lengh', 'kindof', 'minmized', 'everyth', 'mamaw', 'elosie', 'bedskirt', \"summer's\", \"does't\", 'versio', 'quaiity', 'befo', 'accomadate', \"'teeny\", \"bop'\", 'prefe', 'thyre', \"mode's\", 'tencil', 'xxp', 'ocassionally', '38f', 'abso', 'vinta', 'oclor', \"hasn'\", 'birkinstocks', 'bootles', 'someth', \"doesn'\", \"yo'self\", 'quite\\r', 'very\\r', 'anyday', 'lusciousness', '2fit', 'hourgass', \"complaint'\", 'redish', 'creamish', 'necessa', 'asthetically', 'attrac', 'lthink', 'ebough', \"'stitch'\", \"cutesy'\", 'snowflske', '128b', 'liiiiiittle', 'supersexy', 'athropologie', '230lbs', '26r', 'boohoo', \"'fitted'\", 'sleeeves', 'fasionable', 'nikrooz', 'xsma', \"'older'\", \"embellishment's\", \"'hard'\", 'hahahaha', 'retailerday', 'mosly', \"'body\", \"skimming'\", \"'parallel'\", 'orderer', \"person's\", \"they'r\", \"'greener'\", 'expensiv', \"'vegan'\", 'sweathsirt', 'alread', 'korkease', 'loosley', 'airyness', 'drappy', 'toposition', \"'must\", \"have'\", 'armh', 'areturn', 'trally', \"mayn't\", 'lbs\\r', '32c\\r', 'handwashed', 'textiled', \"husband''s\", 'wansup', \"old's\", \"'swinging'\", 'unadjustable', '40dd', 'slubbed', 'looged', 'ddd36', \"'different\", \"'puckered'\", 'coverd', 'highl', 'my\\r', 'clasic', 'hippier', 'bismal', 'miid', 'loveee', 'camos', 'tjhis', 'proble', 'attentio', \"catalog's\", '0verall', 'guazy', \"barbie's\", 'biokleen', \"chino's\", 'bandaid', \"'throw\", \"away'\", 'wrinkley', 'fiits', \"small's\", 'cardigen', 'cuncun', 'althetic', \"ladies'\", 'mashine', \"sewer's\", 'smedium', \"9''\", \"lapel's\", '4yrs', \"30''\", \"31''\", 'uncomfotably', \"5'0'\", '25petite', 'fadng', 'cheezy', \"'look'\", \"1990's\", 'alllll', 'stumpified', 'sassing', 'sensati', 'greal', 'mishaped', 'insirpring', 'disapointed', 'marvilously', 'musually', 'mayb', 'assymetrical', 'big\\r', 'stiff\\r', 'nevery', 'reache', 'drawcord', 'vousta', \"etro's\", 'beardedlady', 'walzing', 'desperat', '124lb', 'exceess', 'plasticky', 'lineba', 'differnt', \"friday's\", 'dd34', 'orignal', 'tucke', '5star', 'compar', 'witing', 'eveyone', 'axtra', 'nonpetite', \"don't'\", 'unhemmed', 'raunching', 'wond', 'shapelessness', '137lbs', 'awate', 'regulr', 'shininess', \"'help'\", 'sz26', 'waistless', 'mislabel', \"must've\", \"mcguire's\", 'breastline', \"i''m\", 'beatiful', '6r', \"'default'\", 'gorjuss', 'yoself', '195lbs', 'dressi', 'slinder', 'avergage', 'pantie', 'oprefer', 'aottern', 'swlim', 'emobroidery', 'drapi', \"cardigan's\", 'enourmous', 'nijar', 'polyster', 'stoe', \"marvel's\", 'srink', 'snuggest', 'circumferentially', 'strechable', 'cut\\r', 'neckline\\r', 'skin\\r', 'thread\\r', '5ft8inches', 'rackerback', 'jodphurs', 'athro', 'sheerling', 'sexified', \"5''9\", 'beigey', 'midrift', 'janeausten', 'maxidress', 'detaling', 'colos', 'am\\r', 'were\\r', 'recievied', 'litttle', 'buttyondown', \"city's\", 'contrastin', 'uncomfy', 'sholulder', 'hastle', 'slimly', 'compliement', 'accentuatea', 'silh', 'outwear', 'wrapover', 'anyou', 'flatform', \"arm's\", 'cheapy', 'flufff', 'received\\r', 'loose\\r', 'peoppe', 'loungey', 'hoepfulyl', 'orffice', 'thiner', 'cooold', 'comfotably', 'veratile', 'tallish', 'flecking', \"man's\", \"'cream'\", 'really0', 'lslightly', \"'vintage\", \"sage'\", 'undertsated', 'annnnd', 'sheerish', 'htere', 'necessairly', 'similr', 'alce', 'drkest', 'flatetering', '105lb', 'you\\r', 'sheeny', \"summer'ness\", \"mind's\", \"'sweater'\", 'dress\\r', \"nolan's\", 'cratsmanship', 'apttenrs', 'restretching', 'fiattering', 'colw', 'tummmy', 'purchae', \"'chunky'\", \"'softens'\", \"'more'\", 'brests', 'tops\\r', 'dressiness', 'tassle', 'estatic', 'substan', 'horizont', 'upsid', \"sundry's\", '27in', 'retailerpligie', 'rsty', 'shillouette', 'courderoy', '104lbs', '20lb', 'westher', \"it's'\", 'wonce', 'flatteri', 'mulit', '4inches', 'adoreable', 'neckband', 'casualed', \"'flair'\", 'alined', 'dansko', \"i'\\r\", 'amost', 'rediculous', 'wellmade', 'alrea', 'occas', 'fanicer', 'hipbones', \"aren'\", 'peplu', 'xxxxxxxxs', \"'flow'\", 'iether', \"there'll\", '7months', 'preggars', 'complimen', 'flatting', \"hemline's\", 'catelog', 'ithas', \"'add\", \"cart'\", 'retailerp', 'cotteny', '125ish', 'heathery', \"'cuz\", \"'soft\", \"coral'\", 'pettte', 'neckes', 'postur', 'bcup', '2regular', 'incred', '39ish', 'ssxp', 'medlum', 'thise', 'puctures', 'importatn', 'matieral', 'comfortbale', 'ilfelt', 'anhtro', 'elastaine', 'definitel', 'talle', 'retailerpologists', 'blaclk', \"'trapeze'\", 'snuggy', 'sadl', \"wearer's\", 'outlin', 'disap', 'topish', 'of\\r', 'denium', 'ghis', 'probabley', 'poorl', 'pelats', 'scrunchy', 'yey', 'fireengine', \"lilke's\", 'tideline', 'reviewe', 'haging', 'morher', 'neony', 'highe', 'nicley', 'supersoft', 'perfectly\\r', \"'shell'\", 'rainproof', 'checkboard', 'stratchy', 'knuc', 'sofy', 'nexk', 'szie', 'looke', 'aweful', 'ahge', 'palelike', 'asflattering', '8petite', 'opitome', 'imhave', 'stretchs', 'aprã¨s', 'otth', 'betwe', 'clingi', 'botih', 'tme0', 'dã©colletã©', '35x28x39', 'slightl', 'accessorizes', \"large'\", 'strops', 'costumey', \"69's\", \"'amazing\", 'bsck', 'materila', 'strecthy', 'exepct', \"fall'\", 'body\\r', '190lbs', 'diffe', \"'tangerine'\", 'bricky', 'ttried', 'slenderize', 'fanciness', 'forarms', 'slende', 'greyed', 'andddddd', 'apre', 'needlenose', 'seciton', 'pratically', 'hangy', \"monkey's\", 'retie', \"subway's\", 'lowcut', 'airly', 'thh', 'beign', 'hsaped', 'nirsing', 'wildberry', 'pregnan', 'sinched', 'pretyy', 'myuch', \"superman'd\", 'sillhoette', \"'boyfriend'\", 'flipp', 'ausaria', 'mutliple', 'waaaaaaaay', 'thoat', 'comfortabl', 'sophistica', 'appropriarely', '3xl', 'simplifie', 'different\\r', 'belted\\r', 'complaintbis', 'loosness', \"floreat's\", 'unstitch', 'lol\\r', 'accessorize\\r', \"'belt'\", \"'tuck'\", 'resew', 'huuuuge', \"'maybe'\", 'lasership', 'officewear', '28dddd', '30ddd', 'sparklecolor', 'andheavy', 'comfo', 'whelming', 'trired', 'lvoed', 'mabli', '6inches\\r', '135lbs\\r', 'kneelength', \"sayin'\", 'handwashable', \"sui's\", 'satin0like', 'eucalan', \"lady's\", 'absoluty', 'packagei', 'unbeliev', \"suit's\", '172lbs', \"5'61\", 'coverin', 'dissappointed', 'coth', 'stonw', 'epite', 'actualyl', 'a34b', 'aaaaaaamazing', 'purch', 'buldging', 'uuuuggghhh', 'underbust', 'differemt', 'recom', 'lititle', 'perfer', 'swisuit', 'rusching', 'tankinis', 'availalbe', 'c34', '114lb', 'wnat', 'flar', 'coobie', \"'moss'\", 'everywhe', 'obsxessing', 'whcich', 'workedc', 'completer', 'cartionnier', 'buttoms', 'elastized', \"'gathered\", 'syked', '134b', 'pilazzo', \"'ivory'\", 'nocal', '180lb', 'christma', 'compfy', 'dã©colletage', \"sunday's\", 'squarple', 'through\\r', '4fits', 'easyily', 'cleani', '34ff', 'inwas', 'lsit', 'modl', 'brught', 'onin', 'somuch', 'laec', 'frumpiness', 'laceing', \"'distressed'\", 'howeverl', 'henely', 'oatmealish', 'trapezey', 'renatkable', 'deminished', \"'bell\", \"'khaki'\", 'orangeish', \"lab's\", 'measument', \"'baggish'\", 'ooohed', 'aaahed', 'veltevty', 'comfim', 'dissapointing', \"'cover\", 'comparat', \"girls'\", 'availab', 'fallish', 'lapels\\r', \"it's\\r\", 'lululemons', 'sweatshirty', 'buttah', \"didm't\", 'peekaboos', '5ft7', 'sunrose', 'allusione', 'yepeee', \"grandpa's\", 'bottam', 'tbale', 'elngth', 'almsot', 'referenc', 'fatiques', 'casua', 'purpley', 'crossfront', 'tailered', 'ladyish', 'runching', \"mumu's\", 'defe', 'momish', 'rehersal', 'beautifil', 'answe', \"your'e\", 'shlumpy', 'diagnol', 'thickeness', 'edgey', \"grandmother's\", 'likea', 'dtime', 'peites', 'reeeeally', 'grrrrr8', 'leggier', 'easilly', 'tiokeep', 'sizing\\r', 'benea', 'sisz', 'loely', 'likded', \"'one\", \"colors'\", 'iusually', 'otherwse', 'inever', 'size4', 'turend', 'thanskgiving', 'refgular', 'strectchy', 'stiched', 'adjsut', 'retailerpolog', 'oompaloompa', 'purchasi', \"zoolander's\", 'repellar', 'stitc', 'asymetrical', 'vribant', '9inches', 'allways', \"7's\", 'dissapointment', 'strech', '27tall', '26tall', 'fast\\r', 'undnerneath', 'decid', 'instea', 'picro', \"don''t\", 'anafa', 'lbds', 'airism', 'these\\r', 'unproportioned', \"stylist's\", 'colsely', 'mentione', 'stre', 'gabardia', 'lacausa', 'derriã©re', '30aa', \"lars'\", \"retailerpolgies'\", \"44's\", '3inches', 'soucotache', 'goldish', 'xxxxxs', '3xxxl', 'washa', 'anlobn', 'doenst', 'rehemmed', \"'summer'\", \"medium's\", 'sweaterknit', 'pommed', \"'weather'\", 'fluevogs', 'ithis', \"they''d\", 'size10', 'epice', 'waitband', 'straightish', '98lbs', 'has\\r', 'as\\r', 'hipefully', 'wuality', 'lilka', 'inwonderland', \"shoulder'd\", 'demosilles', 'asthetic', 'choosi', 'anthletic', 'beutiful', 'teksture', 'floraknit', 'fabiric', 'sleveless', 'garmet', '30inch', \"130'\", \"5''6'\", 'modelesque', 'soooooooo', 'mephistos', 'tthis', \"passe'\", 'once\\r', 'at\\r', '28r', \"whatever's\", 'moomoo', 'eleveness', 'santuary', 'bmeant', 'ljsut', 'calssic', 'overwearing', 'scandelously', 'anrtho', 'swishier', 'picure', 'peac', \"reese's\", 'cutr', \"'floppy'\", \"'sack\", '125b', 'sinches', 'gonga', 'reveive', 'imlove', 'retailerplogy', 'stetchy', 'middi', 'completly', 'antrhopologie', 'especailly', 'dramaticly', \"naomi's\", 'construc', 'dynam', 'childsize', 'hoiday', 'plesantly', 'taffita', \"33's\", 'whyyyyyyyyyyy', 'apocolypse', 'ankl', 'sz12', 'maternit', 'larg', '40yo', 'surprisngly', 'tightish', \"sleeves'\", 'deff', 'beautifull', 'experie', 'beacheress', 'minorly', \"wren't\", 'redyed', 'maintena', 'monthe', 'shrinking\\r', 'suppre', 'blouse\\r', 'overbeari', 'biit', \"world's\", 'blousier', 'transpa', 'lenth', 'wayyyyy', 'hundo', \"product's\", 'chestiness', 'fattiness', \"daughter'\", 'tryi', 'boxines', \"'rope'\", 'cardig', 'comforable', 'fuscia', 'purpleish', '35x27x36', \"'5\", 'uiu', 'beautifullly', 'deligthfully', \"'shear\", '6t', 'tbu', \"'t'\", 'seaso', \"'railroad\", \"tracks'\", 'ruffl', 'besutiful', 'preshrunk', \"36d's\", 'bulkly', 'pouching', 'jaclket', \"'honey\", \"slip'\", 'blus', \"'pockets'\", 'onlin', 'jsutice', 'percect', 'yfit', 'styllsit', 'insiting', 'lstretch', 'poooofffy', 'frmae', \"other's\", \"there'no\", 'ordinar', 'ansy', 'bhldn', \"'blue'\", 'angelinas', 'pooched', 'prepregnancy', 'stylewise', 'plico', 'reticketed', \"'girls'\", \"i'lll\", 'slumpy', \"'sunless\", \"shift'\", 'pouffier', 'salesgirls', 'layi', '122lb', \"'closet\", \"sitter'\", \"'bubble\", \"butt'\", '10mths', 'delish', 'theighs', 'reshipped', 'fluffiness', '03dd', '0xs', 'embroid', 'comfortable\\r', 'askedher', \"dones't\", 'nonte', \"mightn't\", \"spring's\", \"'true\", \"size'\", 'exteemely', 'aquaflora', 'itried', 'keeo', 'deresses', 'commet', 'impresssionistic', 'then\\r', 'legs\\r', 'drapy', 'pilcto', 'puckery', '38dds', 'f21', \"part's\", '10l', 'modcloth', 'fillerup', 'materil', 'ocol', 'itlooks', \"g's\", \"'dressed\", \"'dressing\", \"down'\", \"print's\", 'xsp\\r', 'xxs\\r', 'xxsp\\r', 'fupa', 'billowly', 'deails', 'kuddos', 'demential', 'recommemd', 'dalls', 'akward', 'wowza', 'coobies', 'tangl', 'orderin', 'beauitiful', '92lbs', 'thinkng', \"haven'\", 'christmas1', 'rinestones', 'onwearing', 'caccoon', 'eyelits', 'a9dn', 'sizw', 'frumpier', '2inches', 'delettas', 'returrn', 'perso', 'jegging', \"e'mail\", 'incr', '100lb', 'armhoes', 'ecause', 'cirus', 'bailley', 'wonderul', 'narrowis', 'lighweight', 'amaz', \"'body'\", 'senitive', 'approprialty', 'crumply', 'seychelle', 'colorsblocking', \"3000's\", '11and', 'tendd', 'midwe', \"who'd\", \"designer's\", 'neccissarily', 'starts\\r', 'givinng', \"dnd't\", 'nubbed', \"'pedal\", \"pushers'\", \"'cropped'\", 'anticpated', 'antropologie', 'revieved', 'actuallly', 'hopefulluy', 'torquoise', \"don'tr\", 'btohered', 'ewre', 'thopugh', 'kleep', 'especiall', 'thighness', \"tank's\", 'odering', 'boodie', 'coutour', 'wrardrobe', 'bity', 'bejewels', 'orginially', 'palced', 'appropirate', 'opinion0', 'dreses', 'neitral', \"36'\", '5stars', 'petiite', 'halterneck', 'abck', 'pouff', 'stinning', 'neverth', \"'oversized'\", 'wiskering', \"'lacy'\", 'satisfi', 'idid', 'brigh', 'anothe', 'shoulder\\r', 'earrin', 'typi', 'comjfortable', \"'online\", \"exclusive'\", 'snatc', 'versatille', \"'off'\", 'isth', 'enoug', 'lingere', 'thinne', \"'side\", \"armpit'\", 'turqoise', \"5'130lbs\", \"doesn't'\", 'ehhh', 'nline', 'flaterring', 'rebviews', 'sllm', 'pocketsi', 'greatz', 'indul', 'tanktop', 'throughou', \"'slim\", \"tailored'\", 'delicate\\r', 'generaly', 'cinchers', \"ddind't\", 'lcome', 'navy\\r', \"jacket'ish\", 'sihrt', \"2's\", \"models'\", \"merchants'\", 'contempos', 'cycl', 'lightwe', 'crwal', 'awkwards', 'comfrtable', 'untanned', \"'stuck'\", 'beaufully', 'definelty', \"'empty\", \"nester'\", 'accessorizer', 'embroidary', 'formalness', 'agustable', 'beautful', '9lower', 'lbsm', 'nbut', 'rahter', 'forh', 'unike', 'slinkiness', 'nred', \"'just'\", \"'digi\", 'people\\r', \"junior's\", 'thrille', 'shearliing', 'lovelyt', 'possi', 'tyically', 'amoret', 'gemline', 'furthe', \"i's\", 'pesonal', 'dowton', 'anyw', 'dissippointment', 'dissipointed', '123lb', 'princessy', '130l', \"the150's\", 'neaten', \"sa's\", 'weddingrehearsal', 'elasticised', 'kahki', 'bustiest', 'crimplene', 'boooo', 'timy', 'acrossed', \"harper's\", \"143lb's\", 'lilitz', 'whaa', 'iwould', 'ehels', 'perhpas', 'frnt', 'shapelessly', 'retailerplogie', \"26''\", \"yo'\", \"heart's\", 'marala', 'embarassingly', 'glimmery', 'wotb', 'retun', \"5's\", 'normaly', '3was', 'strestch', 'shapel', \"5''5\", 'cappier', 'hwr', 'innie', 'chokey', \"cartonnier's\", 'teeshirt', 'fullish', \"'pull\", \"'charlie'\", '154lbs', 'pizzaz', 'retailerpo', 'creater', '28l', 'mitif', 'dressied', 'piece\\r', \"34g's\", 'thorwback', 'xxxxs', 'hifh', 'glams', 'conditionied', 'forgettin', 'peasy', \"good'ol\", \"'beware\", 'vaired', 'additio', 'pictu', 'colters', 'objectionably', 'bohemain', 'skosh', 'beatifully', 'peiople', 'forgivin', 'tushy', 'skiny', 'definetely', 'hesitent', 'aplique', 'aaaahs', \"'flare'\", 'untextured', \"preschooler's\", 'tiiny', '149lbs', '6\\r', 'htat', 'store\\r', 'lowness', 'pouffy', \"cheerleader's\", 'wering', 'steadly', '130b', 'itll', 'goood', 'latetly', 'ingnore', 'scandy', 'breakthable', \"'2\", 'wiht6', 'youthfull', 'overstitching', 'ribbbed', 'romier', 'sizze', 'essentiel', 'suddently', \"mean's\", 'scated', \"'car\", \"coat'\", \"weather's\", \"ty's\", 'bcasue', 'anothr', 'cahrm', 'proably', 'irradiates', 'loooooove', 'decolltage', 'sunnies', 'pacquerette', 'anwen', 'butit', 'riiiiiiiiiip', 'chestier', 'embroiderey', \"o'\", \"all'\", '112llbs', 'underdress', 'ilove', \"lovin'\", 'odrdered', 'swaeter', '116ibs', 'whihc', \"havne't\", 'dongre', 'cinchable', 'big0', '220lbs', 'cuten', 'strangly', 'nonconsequential', 'motiff', \"0's\", 'shown\\r', 'yest', \"'wear\", 'unbuttons', 'detsils', 'recomnend', '5mo', 'pradollano', 'sortof', 'nuetral', 'snugged', \"i'l\", 'bronzey', 'swingyness', \"seea's\", 'padd', 'meduim', 'bating', 'descided', 'instagr', 'volumnous', \"'ride'\", 'unstretched', 'usuall', 'tkhe', 'cmpliments', \"won'\", 'volu', 'grippies', 'rebought', '28t', 'pirces', 'nexl', 'pcture', 'pantless', \"stink'n\", 'rouched', 'spendy', 'mensware', \"they'\", 'maayyyyybe', 'polyes', 'receiv', 'am5', \"'3\", 'been\\r', \"40''\", \"twinkle's\", 'coplaints', 'mauv', \"picture's\", 'daker', 'peitte', \"donse't\", 'camoflauges']\n"
     ]
    }
   ],
   "source": [
    "print(word_not_in_glove)"
   ]
  },
  {
   "cell_type": "code",
   "execution_count": 102,
   "metadata": {},
   "outputs": [
    {
     "name": "stdout",
     "output_type": "stream",
     "text": [
      "2782\n"
     ]
    }
   ],
   "source": [
    "print(word_not_in_glove_count)"
   ]
  },
  {
   "cell_type": "markdown",
   "metadata": {},
   "source": [
    "### Build the model"
   ]
  },
  {
   "cell_type": "markdown",
   "metadata": {},
   "source": [
    "#### Functional API Dense layer for numerical and categorical features"
   ]
  },
  {
   "cell_type": "code",
   "execution_count": 103,
   "metadata": {},
   "outputs": [
    {
     "data": {
      "text/plain": [
       "(22628, 29)"
      ]
     },
     "execution_count": 103,
     "metadata": {},
     "output_type": "execute_result"
    }
   ],
   "source": [
    "X_train = np.hstack((scaled_attr, cat_dummies))\n",
    "X_train.shape"
   ]
  },
  {
   "cell_type": "code",
   "execution_count": 104,
   "metadata": {},
   "outputs": [],
   "source": [
    "num_cat_inputs = Input(shape=(X_train.shape[1],),name='num_cat_inputs')\n",
    "out_num_cat = Dense(64, activation='relu')(num_cat_inputs)"
   ]
  },
  {
   "cell_type": "markdown",
   "metadata": {},
   "source": [
    "#### Functional API Embedding layer for text feature"
   ]
  },
  {
   "cell_type": "markdown",
   "metadata": {},
   "source": [
    "#### If there are more than one word in the training data which are not present in Glove then train the embedding layer"
   ]
  },
  {
   "cell_type": "code",
   "execution_count": 105,
   "metadata": {},
   "outputs": [],
   "source": [
    "text_input= Input(shape=(MAX_SEQUENCE_LENGTH,),name='text_input')\n",
    "if (word_not_in_glove_count<=1):\n",
    "    text_embed = Embedding(input_dim=NUM_WORDS,output_dim=EMBEDDING_DIM,weights=[embedding_matrix],trainable=False)(text_input)\n",
    "else:\n",
    "    text_embed = Embedding(input_dim=NUM_WORDS,output_dim=EMBEDDING_DIM,weights=[embedding_matrix],trainable=True)(text_input)\n",
    "out_text = Flatten()(text_embed)"
   ]
  },
  {
   "cell_type": "markdown",
   "metadata": {},
   "source": [
    "#### Concatenate both the layers"
   ]
  },
  {
   "cell_type": "code",
   "execution_count": 106,
   "metadata": {},
   "outputs": [],
   "source": [
    "concatenated = concatenate([clothing_id_embed_flat,out_num_cat, out_text],axis=-1)\n",
    "X = Dense(8, activation='relu')(concatenated)\n",
    "final_out = Dense(no_of_levels, activation='softmax')(X)"
   ]
  },
  {
   "cell_type": "code",
   "execution_count": 107,
   "metadata": {},
   "outputs": [],
   "source": [
    "model = Model(inputs=[clothing_id_input,num_cat_inputs, text_input], outputs=final_out)"
   ]
  },
  {
   "cell_type": "code",
   "execution_count": 108,
   "metadata": {},
   "outputs": [
    {
     "name": "stdout",
     "output_type": "stream",
     "text": [
      "__________________________________________________________________________________________________\n",
      "Layer (type)                    Output Shape         Param #     Connected to                     \n",
      "==================================================================================================\n",
      "Clothing_ID (InputLayer)        (None, 1)            0                                            \n",
      "__________________________________________________________________________________________________\n",
      "text_input (InputLayer)         (None, 500)          0                                            \n",
      "__________________________________________________________________________________________________\n",
      "embedding_3 (Embedding)         (None, 1, 50)        1131400     Clothing_ID[0][0]                \n",
      "__________________________________________________________________________________________________\n",
      "num_cat_inputs (InputLayer)     (None, 29)           0                                            \n",
      "__________________________________________________________________________________________________\n",
      "embedding_4 (Embedding)         (None, 500, 50)      742350      text_input[0][0]                 \n",
      "__________________________________________________________________________________________________\n",
      "flatten_3 (Flatten)             (None, 50)           0           embedding_3[0][0]                \n",
      "__________________________________________________________________________________________________\n",
      "dense_4 (Dense)                 (None, 64)           1920        num_cat_inputs[0][0]             \n",
      "__________________________________________________________________________________________________\n",
      "flatten_4 (Flatten)             (None, 25000)        0           embedding_4[0][0]                \n",
      "__________________________________________________________________________________________________\n",
      "concatenate_2 (Concatenate)     (None, 25114)        0           flatten_3[0][0]                  \n",
      "                                                                 dense_4[0][0]                    \n",
      "                                                                 flatten_4[0][0]                  \n",
      "__________________________________________________________________________________________________\n",
      "dense_5 (Dense)                 (None, 8)            200920      concatenate_2[0][0]              \n",
      "__________________________________________________________________________________________________\n",
      "dense_6 (Dense)                 (None, 5)            45          dense_5[0][0]                    \n",
      "==================================================================================================\n",
      "Total params: 2,076,635\n",
      "Trainable params: 2,076,635\n",
      "Non-trainable params: 0\n",
      "__________________________________________________________________________________________________\n"
     ]
    }
   ],
   "source": [
    "model.summary()"
   ]
  },
  {
   "cell_type": "code",
   "execution_count": 109,
   "metadata": {},
   "outputs": [],
   "source": [
    "model.compile(loss='categorical_crossentropy', optimizer='adagrad', metrics=['accuracy'])"
   ]
  },
  {
   "cell_type": "code",
   "execution_count": 110,
   "metadata": {},
   "outputs": [
    {
     "name": "stdout",
     "output_type": "stream",
     "text": [
      "Train on 18102 samples, validate on 4526 samples\n",
      "Epoch 1/10\n",
      "18102/18102 [==============================] - 16s 879us/step - loss: 1.1288 - acc: 0.5536 - val_loss: 0.9701 - val_acc: 0.5829\n",
      "Epoch 2/10\n",
      "18102/18102 [==============================] - 15s 833us/step - loss: 0.8663 - acc: 0.6450 - val_loss: 0.9456 - val_acc: 0.5996\n",
      "Epoch 3/10\n",
      "18102/18102 [==============================] - 15s 848us/step - loss: 0.7862 - acc: 0.6768 - val_loss: 0.9277 - val_acc: 0.6122\n",
      "Epoch 4/10\n",
      "18102/18102 [==============================] - 15s 845us/step - loss: 0.7280 - acc: 0.7006 - val_loss: 0.9300 - val_acc: 0.6032\n",
      "Epoch 5/10\n",
      "18102/18102 [==============================] - 15s 837us/step - loss: 0.6824 - acc: 0.7193 - val_loss: 0.9279 - val_acc: 0.6107\n",
      "Epoch 6/10\n",
      "18102/18102 [==============================] - 15s 816us/step - loss: 0.6433 - acc: 0.7369 - val_loss: 0.9358 - val_acc: 0.6063\n",
      "Epoch 7/10\n",
      "18102/18102 [==============================] - 15s 803us/step - loss: 0.6089 - acc: 0.7528 - val_loss: 0.9437 - val_acc: 0.6034\n",
      "Epoch 8/10\n",
      "18102/18102 [==============================] - 15s 808us/step - loss: 0.5761 - acc: 0.7670 - val_loss: 0.9669 - val_acc: 0.6052\n",
      "Epoch 9/10\n",
      "18102/18102 [==============================] - 14s 790us/step - loss: 0.5479 - acc: 0.7796 - val_loss: 0.9672 - val_acc: 0.6041\n",
      "Epoch 10/10\n",
      "18102/18102 [==============================] - 14s 797us/step - loss: 0.5187 - acc: 0.7933 - val_loss: 0.9812 - val_acc: 0.5952\n"
     ]
    },
    {
     "data": {
      "text/plain": [
       "<keras.callbacks.History at 0x11b159cf8>"
      ]
     },
     "execution_count": 110,
     "metadata": {},
     "output_type": "execute_result"
    }
   ],
   "source": [
    "model.fit([clothing_id_ind_attr,X_train,\n",
    "           text_seq], \n",
    "          y=target_dummy, \n",
    "          epochs=EPOCHS,validation_split=VALIDATION_SPLIT)"
   ]
  },
  {
   "cell_type": "markdown",
   "metadata": {},
   "source": [
    "### Flowchart of the problem approach"
   ]
  },
  {
   "cell_type": "code",
   "execution_count": 111,
   "metadata": {},
   "outputs": [
    {
     "data": {
      "image/png": "[encoded data removed]",
      "text/plain": [
       "<IPython.core.display.Image object>"
      ]
     },
     "execution_count": 111,
     "metadata": {},
     "output_type": "execute_result"
    }
   ],
   "source": [
    "Image(filename='keras_func_api.png')"
   ]
  }
 ],
 "metadata": {
  "kernelspec": {
   "display_name": "Python 3",
   "language": "python",
   "name": "python3"
  },
  "language_info": {
   "codemirror_mode": {
    "name": "ipython",
    "version": 3
   },
   "file_extension": ".py",
   "mimetype": "text/x-python",
   "name": "python",
   "nbconvert_exporter": "python",
   "pygments_lexer": "ipython3",
   "version": "3.7.1"
  }
 },
 "nbformat": 4,
 "nbformat_minor": 2
}
